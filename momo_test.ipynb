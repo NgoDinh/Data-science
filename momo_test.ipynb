{
  "nbformat": 4,
  "nbformat_minor": 0,
  "metadata": {
    "colab": {
      "name": "momo_test.ipynb",
      "version": "0.3.2",
      "provenance": [],
      "include_colab_link": true
    },
    "kernelspec": {
      "display_name": "Python 3",
      "language": "python",
      "name": "python3"
    }
  },
  "cells": [
    {
      "cell_type": "markdown",
      "metadata": {
        "id": "view-in-github",
        "colab_type": "text"
      },
      "source": [
        "[View in Colaboratory](https://colab.research.google.com/github/NgoDinh/Data-science/blob/master/momo_test.ipynb)"
      ]
    },
    {
      "metadata": {
        "id": "qVSelcRYqq5-",
        "colab_type": "text"
      },
      "cell_type": "markdown",
      "source": [
        "# SQL test"
      ]
    },
    {
      "metadata": {
        "id": "11gUIcF3qq6B",
        "colab_type": "text"
      },
      "cell_type": "markdown",
      "source": [
        "Query dùng để lấy dữ liệu theo yêu cầu.(query này em viếc trên nền tảng postgred sql)"
      ]
    },
    {
      "metadata": {
        "id": "Orh4OioIqq6E",
        "colab_type": "code",
        "colab": {}
      },
      "cell_type": "code",
      "source": [
        "'''\n",
        "select j1.*, j2.totalservice\n",
        "from\n",
        "(select\n",
        "    tmp1.user_id,\n",
        "    max(tmp1.first_time_id) as FirstServiceid,\n",
        "    max(tmp1.second_time_id) as SecondServiceid,\n",
        "    to_char(max(tmp1.first_time):: DATE, 'dd-Mon-yyyy') as FirstServiceDate,\n",
        "    to_char(max(tmp1.second_time):: DATE, 'dd-Mon-yyyy') as SecondServiceDate,\n",
        "    max(tmp1.last_time_id) as LastServiceid,\n",
        "    to_char(max(tmp1.last_time):: DATE, 'dd-Mon-yyyy') as LastServiceDate\n",
        "\n",
        "from\n",
        "    (select\n",
        "        tmp.user_id,\n",
        "        tmp.total_order,\n",
        "        case when tmp._rank = 1 then tmp.date end as first_time,\n",
        "        case when tmp._rank = 1 then tmp.serviceid end as first_time_id,\n",
        "        case when tmp._rank = 2 then tmp.date end as second_time,\n",
        "        case when tmp._rank = 2 then tmp.serviceid end as second_time_id,\n",
        "        case when (tmp.date = tmp._rank_max) and (tmp.total_order > 2) then tmp.date end as last_time,\n",
        "        case when (tmp.date = tmp._rank_max) and (tmp.total_order > 2) then tmp.serviceid  end as last_time_id\n",
        "    from\n",
        "        (select\n",
        "            so.user_id,\n",
        "            so.date,\n",
        "            so.serviceid,\n",
        "            rank() over (partition by so.user_id order by so.date) as _rank,\n",
        "            max(so.date) over (partition by so.user_id) as _rank_max,\n",
        "            count(so.serviceid) over (partition by so.user_id) as total_order\n",
        "        from users so\n",
        "        ) as tmp\n",
        "    ) as tmp1\n",
        "group by 1) as j1\n",
        "inner join (select user_id, count(distinct serviceid) TotalService from users group by 1) j2 on j1.user_id = j2.user_id\n",
        "'''"
      ],
      "execution_count": 0,
      "outputs": []
    },
    {
      "metadata": {
        "id": "DvRJ_rEhqq6W",
        "colab_type": "text"
      },
      "cell_type": "markdown",
      "source": [
        "# Prepare data"
      ]
    },
    {
      "metadata": {
        "id": "FuUgXGXwqq6X",
        "colab_type": "code",
        "colab": {}
      },
      "cell_type": "code",
      "source": [
        "import pandas as pd\n",
        "df = pd.read_excel(\"Test_Data2.xlsx\",\"RawData\")"
      ],
      "execution_count": 0,
      "outputs": []
    },
    {
      "metadata": {
        "id": "VLOOwmuGqq6f",
        "colab_type": "code",
        "colab": {}
      },
      "cell_type": "code",
      "source": [
        "users_info = []\n",
        "for user in users:\n",
        "    tmp = []\n",
        "    tmp.append(user)\n",
        "    data = df[df['User_id']==user]\n",
        "    first_time = data.Date.min()\n",
        "    last_time = data.Date.max()\n",
        "    tmp.append((last_time - first_time).days)\n",
        "    serviceids = list(set(data.Serviceid))\n",
        "    tmp.append(serviceids)\n",
        "    users_info.append(tmp)"
      ],
      "execution_count": 0,
      "outputs": []
    },
    {
      "metadata": {
        "id": "28lQD_Wbqq6n",
        "colab_type": "code",
        "colab": {}
      },
      "cell_type": "code",
      "source": [
        "df_2 = pd.DataFrame(users_info, columns = [\"ID\",\"momo_age\", \"services\"])\n",
        "list_age = list(set(df_2.momo_age))\n",
        "list_age.sort()"
      ],
      "execution_count": 0,
      "outputs": []
    },
    {
      "metadata": {
        "id": "EQ9gmrKJqq6s",
        "colab_type": "text"
      },
      "cell_type": "markdown",
      "source": [
        "# Analysis Test - Question 1"
      ]
    },
    {
      "metadata": {
        "id": "AO-3ZKpbqq6u",
        "colab_type": "code",
        "colab": {}
      },
      "cell_type": "code",
      "source": [
        "result = []\n",
        "unique_services = []\n",
        "for age in list_age:\n",
        "    tmp = []\n",
        "    for data in df_2[df_2['momo_age'] == age].services:\n",
        "        for service in data:\n",
        "            if service not in unique_services:\n",
        "                unique_services.append(service)\n",
        "    tmp.append(age)\n",
        "    tmp.append(len(unique_services))\n",
        "    tmp.append(list(unique_services))\n",
        "    #print(unique_services)\n",
        "    result.append(tmp)"
      ],
      "execution_count": 0,
      "outputs": []
    },
    {
      "metadata": {
        "id": "gcRBIe6rqq6z",
        "colab_type": "code",
        "colab": {}
      },
      "cell_type": "code",
      "source": [
        "df_3 = pd.DataFrame(result, columns = ['momo_age', 'cum_unique_services', 'unique_services'])"
      ],
      "execution_count": 0,
      "outputs": []
    },
    {
      "metadata": {
        "id": "tyRLOUYPqq67",
        "colab_type": "code",
        "colab": {},
        "outputId": "881b3ba6-3451-4723-868a-da5cfcbd98a8"
      },
      "cell_type": "code",
      "source": [
        "# view our data\n",
        "%matplotlib inline\n",
        "import matplotlib.pyplot as plt\n",
        "\n",
        "plt.plot(df_3.momo_age, df_3.cum_unique_services)\n",
        "plt.xlabel(\"Momo Age\")\n",
        "plt.ylabel(\"Cumulative unique service\")\n",
        "plt.title(\"Momo_age vs services\")"
      ],
      "execution_count": 0,
      "outputs": [
        {
          "output_type": "execute_result",
          "data": {
            "text/plain": [
              "Text(0.5,1,'Momo_age vs services')"
            ]
          },
          "metadata": {
            "tags": []
          },
          "execution_count": 239
        },
        {
          "output_type": "display_data",
          "data": {
            "image/png": "[encoded data removed]",
            "text/plain": [
              "<Figure size 432x288 with 1 Axes>"
            ]
          },
          "metadata": {
            "tags": []
          }
        }
      ]
    },
    {
      "metadata": {
        "id": "ylsrzXHtqq7H",
        "colab_type": "text"
      },
      "cell_type": "markdown",
      "source": [
        "### Một số nhận xét\n",
        "- Chúng ta có thể thấy khách hàng của momo đang chia làm 4 phân khúc theo số ngày sử dụng(momo age):\n",
        "    + Đầu tiên khách hàng có momo age bé hơn 50: đây là những khách hàng mới nên có thể thấy số lượng dịch vụ mà họ sử dụng tăng khá nhanh( có thể họ đang thử các dịch vụ của momo)\n",
        "    + Những khách hàng có momo age từ 50 đến 150: Trong giai đoạn này thì số lượng dịch vụ mà họ sử dụng bắt đầu chững lại.\n",
        "    + Sau đó thì sỗ lượng dịch vụ lại tăng mạnh với momo age từ 150 đến 200.\n",
        "    + Cuối cùng trên 200 thì đây là giai đoạn ổn định khi đa phần họ đã sử dụng hết các dịch vụ mà momo cung cấp.\n",
        "    \n",
        "- Như vậy chúng ta có thể thấy giai đoạn 0-50 và giai đoạn 150-200 chúng ta có thể gọi là giai đoạn quảng cáo ( khi chúng ta thu hút khách hàng, và khuyến khích họ trải nghiệm các dịch vụ mà momo cung cấp). Trong khi đó giai đoạn 50-150 và lớn hơn 200 là giai đoạn chăm sóc: với giai đoạn này ta nên tập trung vào yếu tố trải nghiệm của khách hàng để làm cho họ ở lại và tiếp tục trải nghiệm(50-150) và biến họ thành khách hàng trung thành(lớn hơn 200).\n",
        "\n",
        "- Chúng ta sẽ tiếp tục đào sâu vào mỗi giai đoạn để xem dịch vụ mà họ thường dùng là gì."
      ]
    },
    {
      "metadata": {
        "id": "y0eDVGGzqq7K",
        "colab_type": "code",
        "colab": {},
        "outputId": "6783a548-10d3-47b5-9733-15acb87ec197"
      },
      "cell_type": "code",
      "source": [
        "df_3"
      ],
      "execution_count": 0,
      "outputs": [
        {
          "output_type": "execute_result",
          "data": {
            "text/html": [
              "<div>\n",
              "<style scoped>\n",
              "    .dataframe tbody tr th:only-of-type {\n",
              "        vertical-align: middle;\n",
              "    }\n",
              "\n",
              "    .dataframe tbody tr th {\n",
              "        vertical-align: top;\n",
              "    }\n",
              "\n",
              "    .dataframe thead th {\n",
              "        text-align: right;\n",
              "    }\n",
              "</style>\n",
              "<table border=\"1\" class=\"dataframe\">\n",
              "  <thead>\n",
              "    <tr style=\"text-align: right;\">\n",
              "      <th></th>\n",
              "      <th>momo_age</th>\n",
              "      <th>cum_unique_services</th>\n",
              "      <th>unique_services</th>\n",
              "    </tr>\n",
              "  </thead>\n",
              "  <tbody>\n",
              "    <tr>\n",
              "      <th>0</th>\n",
              "      <td>0</td>\n",
              "      <td>4</td>\n",
              "      <td>[20, 1136, 1014, 981]</td>\n",
              "    </tr>\n",
              "    <tr>\n",
              "      <th>1</th>\n",
              "      <td>2</td>\n",
              "      <td>7</td>\n",
              "      <td>[20, 1136, 1014, 981, 667, 742, 487]</td>\n",
              "    </tr>\n",
              "    <tr>\n",
              "      <th>2</th>\n",
              "      <td>3</td>\n",
              "      <td>8</td>\n",
              "      <td>[20, 1136, 1014, 981, 667, 742, 487, 19]</td>\n",
              "    </tr>\n",
              "    <tr>\n",
              "      <th>3</th>\n",
              "      <td>7</td>\n",
              "      <td>10</td>\n",
              "      <td>[20, 1136, 1014, 981, 667, 742, 487, 19, 18, 398]</td>\n",
              "    </tr>\n",
              "    <tr>\n",
              "      <th>4</th>\n",
              "      <td>10</td>\n",
              "      <td>14</td>\n",
              "      <td>[20, 1136, 1014, 981, 667, 742, 487, 19, 18, 3...</td>\n",
              "    </tr>\n",
              "    <tr>\n",
              "      <th>5</th>\n",
              "      <td>17</td>\n",
              "      <td>17</td>\n",
              "      <td>[20, 1136, 1014, 981, 667, 742, 487, 19, 18, 3...</td>\n",
              "    </tr>\n",
              "    <tr>\n",
              "      <th>6</th>\n",
              "      <td>21</td>\n",
              "      <td>20</td>\n",
              "      <td>[20, 1136, 1014, 981, 667, 742, 487, 19, 18, 3...</td>\n",
              "    </tr>\n",
              "    <tr>\n",
              "      <th>7</th>\n",
              "      <td>23</td>\n",
              "      <td>23</td>\n",
              "      <td>[20, 1136, 1014, 981, 667, 742, 487, 19, 18, 3...</td>\n",
              "    </tr>\n",
              "    <tr>\n",
              "      <th>8</th>\n",
              "      <td>33</td>\n",
              "      <td>24</td>\n",
              "      <td>[20, 1136, 1014, 981, 667, 742, 487, 19, 18, 3...</td>\n",
              "    </tr>\n",
              "    <tr>\n",
              "      <th>9</th>\n",
              "      <td>34</td>\n",
              "      <td>28</td>\n",
              "      <td>[20, 1136, 1014, 981, 667, 742, 487, 19, 18, 3...</td>\n",
              "    </tr>\n",
              "    <tr>\n",
              "      <th>10</th>\n",
              "      <td>38</td>\n",
              "      <td>29</td>\n",
              "      <td>[20, 1136, 1014, 981, 667, 742, 487, 19, 18, 3...</td>\n",
              "    </tr>\n",
              "    <tr>\n",
              "      <th>11</th>\n",
              "      <td>44</td>\n",
              "      <td>29</td>\n",
              "      <td>[20, 1136, 1014, 981, 667, 742, 487, 19, 18, 3...</td>\n",
              "    </tr>\n",
              "    <tr>\n",
              "      <th>12</th>\n",
              "      <td>59</td>\n",
              "      <td>29</td>\n",
              "      <td>[20, 1136, 1014, 981, 667, 742, 487, 19, 18, 3...</td>\n",
              "    </tr>\n",
              "    <tr>\n",
              "      <th>13</th>\n",
              "      <td>97</td>\n",
              "      <td>34</td>\n",
              "      <td>[20, 1136, 1014, 981, 667, 742, 487, 19, 18, 3...</td>\n",
              "    </tr>\n",
              "    <tr>\n",
              "      <th>14</th>\n",
              "      <td>99</td>\n",
              "      <td>39</td>\n",
              "      <td>[20, 1136, 1014, 981, 667, 742, 487, 19, 18, 3...</td>\n",
              "    </tr>\n",
              "    <tr>\n",
              "      <th>15</th>\n",
              "      <td>106</td>\n",
              "      <td>39</td>\n",
              "      <td>[20, 1136, 1014, 981, 667, 742, 487, 19, 18, 3...</td>\n",
              "    </tr>\n",
              "    <tr>\n",
              "      <th>16</th>\n",
              "      <td>115</td>\n",
              "      <td>40</td>\n",
              "      <td>[20, 1136, 1014, 981, 667, 742, 487, 19, 18, 3...</td>\n",
              "    </tr>\n",
              "    <tr>\n",
              "      <th>17</th>\n",
              "      <td>118</td>\n",
              "      <td>40</td>\n",
              "      <td>[20, 1136, 1014, 981, 667, 742, 487, 19, 18, 3...</td>\n",
              "    </tr>\n",
              "    <tr>\n",
              "      <th>18</th>\n",
              "      <td>144</td>\n",
              "      <td>40</td>\n",
              "      <td>[20, 1136, 1014, 981, 667, 742, 487, 19, 18, 3...</td>\n",
              "    </tr>\n",
              "    <tr>\n",
              "      <th>19</th>\n",
              "      <td>145</td>\n",
              "      <td>40</td>\n",
              "      <td>[20, 1136, 1014, 981, 667, 742, 487, 19, 18, 3...</td>\n",
              "    </tr>\n",
              "    <tr>\n",
              "      <th>20</th>\n",
              "      <td>148</td>\n",
              "      <td>44</td>\n",
              "      <td>[20, 1136, 1014, 981, 667, 742, 487, 19, 18, 3...</td>\n",
              "    </tr>\n",
              "    <tr>\n",
              "      <th>21</th>\n",
              "      <td>159</td>\n",
              "      <td>46</td>\n",
              "      <td>[20, 1136, 1014, 981, 667, 742, 487, 19, 18, 3...</td>\n",
              "    </tr>\n",
              "    <tr>\n",
              "      <th>22</th>\n",
              "      <td>162</td>\n",
              "      <td>48</td>\n",
              "      <td>[20, 1136, 1014, 981, 667, 742, 487, 19, 18, 3...</td>\n",
              "    </tr>\n",
              "    <tr>\n",
              "      <th>23</th>\n",
              "      <td>169</td>\n",
              "      <td>48</td>\n",
              "      <td>[20, 1136, 1014, 981, 667, 742, 487, 19, 18, 3...</td>\n",
              "    </tr>\n",
              "    <tr>\n",
              "      <th>24</th>\n",
              "      <td>173</td>\n",
              "      <td>49</td>\n",
              "      <td>[20, 1136, 1014, 981, 667, 742, 487, 19, 18, 3...</td>\n",
              "    </tr>\n",
              "    <tr>\n",
              "      <th>25</th>\n",
              "      <td>175</td>\n",
              "      <td>52</td>\n",
              "      <td>[20, 1136, 1014, 981, 667, 742, 487, 19, 18, 3...</td>\n",
              "    </tr>\n",
              "    <tr>\n",
              "      <th>26</th>\n",
              "      <td>177</td>\n",
              "      <td>53</td>\n",
              "      <td>[20, 1136, 1014, 981, 667, 742, 487, 19, 18, 3...</td>\n",
              "    </tr>\n",
              "    <tr>\n",
              "      <th>27</th>\n",
              "      <td>178</td>\n",
              "      <td>53</td>\n",
              "      <td>[20, 1136, 1014, 981, 667, 742, 487, 19, 18, 3...</td>\n",
              "    </tr>\n",
              "    <tr>\n",
              "      <th>28</th>\n",
              "      <td>179</td>\n",
              "      <td>56</td>\n",
              "      <td>[20, 1136, 1014, 981, 667, 742, 487, 19, 18, 3...</td>\n",
              "    </tr>\n",
              "    <tr>\n",
              "      <th>29</th>\n",
              "      <td>180</td>\n",
              "      <td>60</td>\n",
              "      <td>[20, 1136, 1014, 981, 667, 742, 487, 19, 18, 3...</td>\n",
              "    </tr>\n",
              "    <tr>\n",
              "      <th>30</th>\n",
              "      <td>184</td>\n",
              "      <td>61</td>\n",
              "      <td>[20, 1136, 1014, 981, 667, 742, 487, 19, 18, 3...</td>\n",
              "    </tr>\n",
              "    <tr>\n",
              "      <th>31</th>\n",
              "      <td>192</td>\n",
              "      <td>63</td>\n",
              "      <td>[20, 1136, 1014, 981, 667, 742, 487, 19, 18, 3...</td>\n",
              "    </tr>\n",
              "    <tr>\n",
              "      <th>32</th>\n",
              "      <td>196</td>\n",
              "      <td>69</td>\n",
              "      <td>[20, 1136, 1014, 981, 667, 742, 487, 19, 18, 3...</td>\n",
              "    </tr>\n",
              "    <tr>\n",
              "      <th>33</th>\n",
              "      <td>197</td>\n",
              "      <td>73</td>\n",
              "      <td>[20, 1136, 1014, 981, 667, 742, 487, 19, 18, 3...</td>\n",
              "    </tr>\n",
              "    <tr>\n",
              "      <th>34</th>\n",
              "      <td>199</td>\n",
              "      <td>74</td>\n",
              "      <td>[20, 1136, 1014, 981, 667, 742, 487, 19, 18, 3...</td>\n",
              "    </tr>\n",
              "    <tr>\n",
              "      <th>35</th>\n",
              "      <td>200</td>\n",
              "      <td>74</td>\n",
              "      <td>[20, 1136, 1014, 981, 667, 742, 487, 19, 18, 3...</td>\n",
              "    </tr>\n",
              "    <tr>\n",
              "      <th>36</th>\n",
              "      <td>203</td>\n",
              "      <td>78</td>\n",
              "      <td>[20, 1136, 1014, 981, 667, 742, 487, 19, 18, 3...</td>\n",
              "    </tr>\n",
              "    <tr>\n",
              "      <th>37</th>\n",
              "      <td>205</td>\n",
              "      <td>78</td>\n",
              "      <td>[20, 1136, 1014, 981, 667, 742, 487, 19, 18, 3...</td>\n",
              "    </tr>\n",
              "    <tr>\n",
              "      <th>38</th>\n",
              "      <td>394</td>\n",
              "      <td>79</td>\n",
              "      <td>[20, 1136, 1014, 981, 667, 742, 487, 19, 18, 3...</td>\n",
              "    </tr>\n",
              "  </tbody>\n",
              "</table>\n",
              "</div>"
            ],
            "text/plain": [
              "    momo_age  cum_unique_services  \\\n",
              "0          0                    4   \n",
              "1          2                    7   \n",
              "2          3                    8   \n",
              "3          7                   10   \n",
              "4         10                   14   \n",
              "5         17                   17   \n",
              "6         21                   20   \n",
              "7         23                   23   \n",
              "8         33                   24   \n",
              "9         34                   28   \n",
              "10        38                   29   \n",
              "11        44                   29   \n",
              "12        59                   29   \n",
              "13        97                   34   \n",
              "14        99                   39   \n",
              "15       106                   39   \n",
              "16       115                   40   \n",
              "17       118                   40   \n",
              "18       144                   40   \n",
              "19       145                   40   \n",
              "20       148                   44   \n",
              "21       159                   46   \n",
              "22       162                   48   \n",
              "23       169                   48   \n",
              "24       173                   49   \n",
              "25       175                   52   \n",
              "26       177                   53   \n",
              "27       178                   53   \n",
              "28       179                   56   \n",
              "29       180                   60   \n",
              "30       184                   61   \n",
              "31       192                   63   \n",
              "32       196                   69   \n",
              "33       197                   73   \n",
              "34       199                   74   \n",
              "35       200                   74   \n",
              "36       203                   78   \n",
              "37       205                   78   \n",
              "38       394                   79   \n",
              "\n",
              "                                      unique_services  \n",
              "0                               [20, 1136, 1014, 981]  \n",
              "1                [20, 1136, 1014, 981, 667, 742, 487]  \n",
              "2            [20, 1136, 1014, 981, 667, 742, 487, 19]  \n",
              "3   [20, 1136, 1014, 981, 667, 742, 487, 19, 18, 398]  \n",
              "4   [20, 1136, 1014, 981, 667, 742, 487, 19, 18, 3...  \n",
              "5   [20, 1136, 1014, 981, 667, 742, 487, 19, 18, 3...  \n",
              "6   [20, 1136, 1014, 981, 667, 742, 487, 19, 18, 3...  \n",
              "7   [20, 1136, 1014, 981, 667, 742, 487, 19, 18, 3...  \n",
              "8   [20, 1136, 1014, 981, 667, 742, 487, 19, 18, 3...  \n",
              "9   [20, 1136, 1014, 981, 667, 742, 487, 19, 18, 3...  \n",
              "10  [20, 1136, 1014, 981, 667, 742, 487, 19, 18, 3...  \n",
              "11  [20, 1136, 1014, 981, 667, 742, 487, 19, 18, 3...  \n",
              "12  [20, 1136, 1014, 981, 667, 742, 487, 19, 18, 3...  \n",
              "13  [20, 1136, 1014, 981, 667, 742, 487, 19, 18, 3...  \n",
              "14  [20, 1136, 1014, 981, 667, 742, 487, 19, 18, 3...  \n",
              "15  [20, 1136, 1014, 981, 667, 742, 487, 19, 18, 3...  \n",
              "16  [20, 1136, 1014, 981, 667, 742, 487, 19, 18, 3...  \n",
              "17  [20, 1136, 1014, 981, 667, 742, 487, 19, 18, 3...  \n",
              "18  [20, 1136, 1014, 981, 667, 742, 487, 19, 18, 3...  \n",
              "19  [20, 1136, 1014, 981, 667, 742, 487, 19, 18, 3...  \n",
              "20  [20, 1136, 1014, 981, 667, 742, 487, 19, 18, 3...  \n",
              "21  [20, 1136, 1014, 981, 667, 742, 487, 19, 18, 3...  \n",
              "22  [20, 1136, 1014, 981, 667, 742, 487, 19, 18, 3...  \n",
              "23  [20, 1136, 1014, 981, 667, 742, 487, 19, 18, 3...  \n",
              "24  [20, 1136, 1014, 981, 667, 742, 487, 19, 18, 3...  \n",
              "25  [20, 1136, 1014, 981, 667, 742, 487, 19, 18, 3...  \n",
              "26  [20, 1136, 1014, 981, 667, 742, 487, 19, 18, 3...  \n",
              "27  [20, 1136, 1014, 981, 667, 742, 487, 19, 18, 3...  \n",
              "28  [20, 1136, 1014, 981, 667, 742, 487, 19, 18, 3...  \n",
              "29  [20, 1136, 1014, 981, 667, 742, 487, 19, 18, 3...  \n",
              "30  [20, 1136, 1014, 981, 667, 742, 487, 19, 18, 3...  \n",
              "31  [20, 1136, 1014, 981, 667, 742, 487, 19, 18, 3...  \n",
              "32  [20, 1136, 1014, 981, 667, 742, 487, 19, 18, 3...  \n",
              "33  [20, 1136, 1014, 981, 667, 742, 487, 19, 18, 3...  \n",
              "34  [20, 1136, 1014, 981, 667, 742, 487, 19, 18, 3...  \n",
              "35  [20, 1136, 1014, 981, 667, 742, 487, 19, 18, 3...  \n",
              "36  [20, 1136, 1014, 981, 667, 742, 487, 19, 18, 3...  \n",
              "37  [20, 1136, 1014, 981, 667, 742, 487, 19, 18, 3...  \n",
              "38  [20, 1136, 1014, 981, 667, 742, 487, 19, 18, 3...  "
            ]
          },
          "metadata": {
            "tags": []
          },
          "execution_count": 240
        }
      ]
    },
    {
      "metadata": {
        "id": "Axd-kSfRqq7W",
        "colab_type": "code",
        "colab": {}
      },
      "cell_type": "code",
      "source": [
        "group1 = df_3[df_3['momo_age'] == 44].unique_services.values[0]\n",
        "\n",
        "group2_services = df_3[df_3['momo_age'] == 148].unique_services.values[0]\n",
        "group2 = [i for i in group2_services if i not in group1]\n",
        "\n",
        "group3_services = df_3[df_3['momo_age'] == 200].unique_services.values[0]\n",
        "group3 = [i for i in group3_services if i not in group2_services]\n",
        "\n",
        "group4_services = df_3[df_3['momo_age'] == 394].unique_services.values[0]\n",
        "group4 = [i for i in group4_services if i not in group3_services]"
      ],
      "execution_count": 0,
      "outputs": []
    },
    {
      "metadata": {
        "id": "hJ8PudJgqq7c",
        "colab_type": "code",
        "colab": {},
        "outputId": "3d68e572-9d47-45cb-c07a-3710affa15a8"
      },
      "cell_type": "code",
      "source": [
        "for i in group1:\n",
        "    total = 0\n",
        "    for service in df_2[df_2.momo_age <= 44].services:\n",
        "        if i in service:\n",
        "            total = total + 1\n",
        "    if total >=5:\n",
        "        print(i, end=\" \")"
      ],
      "execution_count": 0,
      "outputs": [
        {
          "output_type": "stream",
          "text": [
            "1014 981 487 "
          ],
          "name": "stdout"
        }
      ]
    },
    {
      "metadata": {
        "id": "XiYAoE7iqq7k",
        "colab_type": "code",
        "colab": {},
        "outputId": "10771fa7-fa7b-4262-db43-2de38d32f6bf"
      },
      "cell_type": "code",
      "source": [
        "for i in group2_services:\n",
        "    total = 0\n",
        "    for service in df_2[(df_2.momo_age > 44)&(df_2.momo_age <= 148)].services:\n",
        "        if i in service:\n",
        "            total = total + 1\n",
        "    if total >=5:\n",
        "        print(i, end=\" \")"
      ],
      "execution_count": 0,
      "outputs": [
        {
          "output_type": "stream",
          "text": [
            "1014 981 271 "
          ],
          "name": "stdout"
        }
      ]
    },
    {
      "metadata": {
        "id": "lBohvOC3qq7r",
        "colab_type": "code",
        "colab": {},
        "outputId": "e70a4ce0-8b1d-47e9-e72e-8454464b38e9"
      },
      "cell_type": "code",
      "source": [
        "for i in group3_services:\n",
        "    total = 0\n",
        "    for service in df_2[(df_2.momo_age > 148)&(df_2.momo_age <= 200)].services:\n",
        "        if i in service:\n",
        "            total = total + 1\n",
        "    if total >=5:\n",
        "        print(i, end=\" \")"
      ],
      "execution_count": 0,
      "outputs": [
        {
          "output_type": "stream",
          "text": [
            "20 1014 981 667 270 983 268 333 1366 271 982 "
          ],
          "name": "stdout"
        }
      ]
    },
    {
      "metadata": {
        "id": "pgyLVcmoqq7y",
        "colab_type": "code",
        "colab": {},
        "outputId": "75e7ffbd-c961-4adf-cfac-3cd38d1d9af9"
      },
      "cell_type": "code",
      "source": [
        "for i in group1:\n",
        "    total = 0\n",
        "    for service in df_2[df_2.momo_age > 200].services:\n",
        "        if i in service:\n",
        "            total = total + 1\n",
        "    if total >=4:\n",
        "        print(i, end=\" \")"
      ],
      "execution_count": 0,
      "outputs": [
        {
          "output_type": "stream",
          "text": [
            "1014 981 271 "
          ],
          "name": "stdout"
        }
      ]
    },
    {
      "metadata": {
        "id": "2pIUJOqJqq73",
        "colab_type": "text"
      },
      "cell_type": "markdown",
      "source": [
        "Như chúng ta có thể thấy:\n",
        "- Nhóm thứ nhất (momo age < 50): Dù người dùng sử dụng khá nhiều dịch vụ, tuy nhiên những dịch vụ được nhiều người sử dụng nhất đó là: 1014, 981, 487\n",
        "- Nhóm thứ 2 ( momo age trong khoảng từ 50 đến 150): Như ta đã phân tích ở trên thì số lượng dịch vụ mà người dùng sử dụng thêm không nhiều, họ vẫn dùng các dịch vụ quen thuộc là 1014 và 981 bên cạnh đó họ sử dụng thêm dịch vụ 271 ( dịch vụ này không được sử dụng nhiều với những người có momo age < 50).\n",
        "- Nhóm thứ 3 (momo age trong khoảng 150 đến 200): Vẫn là những dịch vụ quen thuộc là: 1014, 981, 271. Cộng thêm hàng loạt dịch vụ khác được người dùng ưa thích có thể kể đến là: 20, 667, 270, 983, 263, 333, 1366, 982 ( những dịch vụ này cũng không được dùng thường xuyên bởi 2 nhóm khách hàng 1 và 2).\n",
        "- Và nhóm khách hàng thứ 4: Có vẽ như sau một thời gian tìm hiểu thì nhóm này lại trở về với dịc vụ cơ bản là: 1014, 981, 271\n",
        "\n",
        "Có thể thấy rằng những dich vụ được mọi đối tượng yêu thích là 1014, 981 và 271"
      ]
    },
    {
      "metadata": {
        "id": "CfjdsXLsqq74",
        "colab_type": "text"
      },
      "cell_type": "markdown",
      "source": [
        "# Analysis Test - Question 2"
      ]
    },
    {
      "metadata": {
        "id": "_1B7GxTdqq76",
        "colab_type": "text"
      },
      "cell_type": "markdown",
      "source": [
        "- Dựa vào những gì mà chúng ta đã phân tích ở trên, chúng ta sẽ recommend cho khách hàng dựa theo những dịch vụ mà khách hàng khác trong cùng nhóm thường xuyên sử dụng. Tùy theo mỗi nhóm khách hàng chúng ta sẽ có những recommend phù hợp, tuy nhiên luôn phải chú trọng 3 dịch vụ được yêu thích của chúng ta là 1014, 981, 271."
      ]
    },
    {
      "metadata": {
        "id": "MscIN5FHqq78",
        "colab_type": "text"
      },
      "cell_type": "markdown",
      "source": [
        "Đối với khách hàng nhóm 1:"
      ]
    },
    {
      "metadata": {
        "id": "1DizY-KQqq79",
        "colab_type": "code",
        "colab": {},
        "outputId": "defbd76c-6963-455a-c682-69f0ccfe2cfa"
      },
      "cell_type": "code",
      "source": [
        "for i in group1:\n",
        "    print(i, end=\" \")"
      ],
      "execution_count": 0,
      "outputs": [
        {
          "output_type": "stream",
          "text": [
            "20 1136 1014 981 667 742 487 19 18 398 984 666 269 326 299 270 983 65 946 658 268 333 47 1366 481 12 285 271 11 "
          ],
          "name": "stdout"
        }
      ]
    },
    {
      "metadata": {
        "id": "c4pcaSR4qq8K",
        "colab_type": "text"
      },
      "cell_type": "markdown",
      "source": [
        "Đối với khách hàng thuộc nhóm 2 (đây là những dịch vụ được các khách hàng khác trong nhóm 2 sử dụng nhưng không xuất hiện trong khách hàng nhóm 1):"
      ]
    },
    {
      "metadata": {
        "id": "bCSnPB_3qq8L",
        "colab_type": "code",
        "colab": {},
        "outputId": "e6afe719-08ff-4166-fada-eb5fa7173566"
      },
      "cell_type": "code",
      "source": [
        "for i in group2:\n",
        "    print(i, end=\" \")"
      ],
      "execution_count": 0,
      "outputs": [
        {
          "output_type": "stream",
          "text": [
            "355 263 904 273 985 456 13 1166 54 982 3976 66 1346 68 70 "
          ],
          "name": "stdout"
        }
      ]
    },
    {
      "metadata": {
        "id": "eMJTXEk6qq8d",
        "colab_type": "text"
      },
      "cell_type": "markdown",
      "source": [
        "Đối với khách hàng thuộc nhóm 3 (đây là những dịch vụ được các khách hàng khác trong nhóm 3 sử dụng nhưng không xuất hiện trong khách hàng nhóm 1, 2):"
      ]
    },
    {
      "metadata": {
        "id": "wM1FNe4Nqq8f",
        "colab_type": "code",
        "colab": {},
        "outputId": "e9d943d0-dd14-4612-cf0b-45f7ae2807c3"
      },
      "cell_type": "code",
      "source": [
        "for i in group3:\n",
        "    print(i, end=\" \")"
      ],
      "execution_count": 0,
      "outputs": [
        {
          "output_type": "stream",
          "text": [
            "64 310 650 3998 257 308 279 1086 10 259 327 905 330 659 23 316 4 486 24 1046 309 56 82 91 125 1186 3995 363 4095 63 "
          ],
          "name": "stdout"
        }
      ]
    },
    {
      "metadata": {
        "id": "-IxWcvzrqq8p",
        "colab_type": "text"
      },
      "cell_type": "markdown",
      "source": [
        "Đối với khách hàng thuộc nhóm 4 (đây là những dịch vụ được các khách hàng khác trong nhóm 4 sử dụng nhưng không xuất hiện trong khách hàng nhóm 1, 2, 3):"
      ]
    },
    {
      "metadata": {
        "id": "8WPIYjb_qq8q",
        "colab_type": "code",
        "colab": {},
        "outputId": "d1ee8f91-a435-45fb-e9f4-4f2fcc8694a1"
      },
      "cell_type": "code",
      "source": [
        "for i in group4:\n",
        "    print(i, end=\" \")"
      ],
      "execution_count": 0,
      "outputs": [
        {
          "output_type": "stream",
          "text": [
            "4483 261 668 55 2 "
          ],
          "name": "stdout"
        }
      ]
    },
    {
      "metadata": {
        "id": "wMVub9mYqq8z",
        "colab_type": "text"
      },
      "cell_type": "markdown",
      "source": [
        "### Trên đây là toàn bộ những phân tích của em dựa theo dữ liệu được các anh chị cung cấp, em rất mong nhận được sự góp ý từ phía các anh chị để em có thể hoàn thiện thêm, em cám ơn rất nhiều, chúc các anh chị có một ngày làm việc vui vẻ."
      ]
    },
    {
      "metadata": {
        "id": "ymO7rQ4pqq83",
        "colab_type": "code",
        "colab": {}
      },
      "cell_type": "code",
      "source": [
        ""
      ],
      "execution_count": 0,
      "outputs": []
    }
  ]
}