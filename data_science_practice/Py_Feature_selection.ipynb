{
 "cells": [
  {
   "cell_type": "markdown",
   "metadata": {},
   "source": [
    "## Glossary\n",
    "> - Feature extraction: is usually used when the original data was very different. In particular when you could not have used the raw data. Ex: feature extraction for images\n",
    "> - Feature exploration: Know exactly what raw data is. Ex: Type of Data, corrilation, missing, outlier.\n",
    "> - Feature scaling: normalization\n",
    "> - Feature construction: is the preprocessing use to change raw features into more meaningful features. Ex: instead of using variables x, y, z you decide to use log(x)-sqrt(y)*z instead.\n",
    "> - Feature selection: Decide to choose some useful features from orginal set. \n",
    "\n",
    "___\n",
    "- Resources:\n",
    "> - [Machinelearningmastery](https://machinelearningmastery.com/discover-feature-engineering-how-to-engineer-features-and-how-to-get-good-at-it/)\n",
    "> - [Udacity](https://classroom.udacity.com/courses/ud120)\n",
    "> - [nyu.edu](https://med.nyu.edu/chibi/sites/default/files/chibi/file7.pdf)\n",
    "> - [sklearn](http://scikit-learn.org/stable/modules/feature_selection.html)"
   ]
  },
  {
   "cell_type": "markdown",
   "metadata": {},
   "source": [
    "## Feature selection"
   ]
  },
  {
   "cell_type": "markdown",
   "metadata": {},
   "source": [
    "- forward selection or backward selection(wrapper): \n",
    "$$ X_1, X_2, ... X_m \\underset{model}{\\mapsto} best(ex: X_1)\\underset{add-one-more}{\\mapsto}\\underset{+model}{\\mapsto}best(ex: X_1 + X_2).... \\underset{can't-increase-accuracy}{\\mapsto} stop$$ \n",
    "> - Exhaustive search vs heuristic vs Genetic Algorithms\n",
    "\n",
    "- Filter: use proxy model to rank original features + threshold or k |--> k best or fit condition\n",
    "> - $$ X^2, G^2, Pearson r, Fisher Criterion Scoring $$"
   ]
  },
  {
   "cell_type": "markdown",
   "metadata": {},
   "source": [
    "## sklearn"
   ]
  },
  {
   "cell_type": "markdown",
   "metadata": {},
   "source": [
    "### Removing features with low variance\n",
    "- It removes all features whose variance doesn’t meet some threshold"
   ]
  },
  {
   "cell_type": "code",
   "execution_count": 18,
   "metadata": {},
   "outputs": [
    {
     "data": {
      "text/plain": [
       "Text(0,0.5,'var')"
      ]
     },
     "execution_count": 18,
     "metadata": {},
     "output_type": "execute_result"
    },
    {
     "data": {
      "image/png": "[encoded data removed]",
      "text/plain": [
       "<matplotlib.figure.Figure at 0x7f359597d940>"
      ]
     },
     "metadata": {},
     "output_type": "display_data"
    }
   ],
   "source": [
    "# distribution of p*(1-p)\n",
    "#---------------------------------------------------#\n",
    "\n",
    "import numpy as np\n",
    "import matplotlib.pyplot as plt\n",
    "\n",
    "X = np.random.rand(100)\n",
    "var = X * (1- X)\n",
    "plt.scatter(X, var)\n",
    "plt.xlabel('X')\n",
    "plt.ylabel('var')"
   ]
  },
  {
   "cell_type": "code",
   "execution_count": 4,
   "metadata": {},
   "outputs": [
    {
     "data": {
      "text/plain": [
       "array([[0, 1],\n",
       "       [1, 0],\n",
       "       [0, 0],\n",
       "       [1, 1],\n",
       "       [1, 0],\n",
       "       [1, 1]])"
      ]
     },
     "execution_count": 4,
     "metadata": {},
     "output_type": "execute_result"
    }
   ],
   "source": [
    "# var(x) = p*(1-p)\n",
    "#---------------------------------------------------#\n",
    "\n",
    "from sklearn.feature_selection import VarianceThreshold\n",
    "\n",
    "X = [[0, 0, 1], [0, 1, 0], [1, 0, 0], [0, 1, 1], [0, 1, 0], [0, 1, 1]]\n",
    "sel = VarianceThreshold(threshold=(.8 * (1 - .8)))\n",
    "sel.fit_transform(X)"
   ]
  },
  {
   "cell_type": "markdown",
   "metadata": {},
   "source": [
    "### Univariate feature selection(filter)\n",
    "- For regression: f_regression, mutual_info_regression\n",
    "- For classification: chi2, f_classif, mutual_info_classif"
   ]
  },
  {
   "cell_type": "code",
   "execution_count": 13,
   "metadata": {},
   "outputs": [
    {
     "name": "stdout",
     "output_type": "stream",
     "text": [
      "X shape:(150, 4),X_new shape:(150, 2)\n"
     ]
    }
   ],
   "source": [
    "# Use chi square to filter features\n",
    "#---------------------------------------------------#\n",
    "\n",
    "from sklearn.datasets import load_iris\n",
    "from sklearn.feature_selection import SelectKBest\n",
    "from sklearn.feature_selection import chi2\n",
    "\n",
    "iris = load_iris()\n",
    "X, y = iris.data, iris.target\n",
    "X_new = SelectKBest(chi2, k=2).fit_transform(X, y)\n",
    "print(\"X shape:{0},X_new shape:{1}\".format(X.shape,X_new.shape))"
   ]
  },
  {
   "cell_type": "markdown",
   "metadata": {},
   "source": [
    "### Feature selection using SelectFromModel"
   ]
  },
  {
   "cell_type": "code",
   "execution_count": 14,
   "metadata": {},
   "outputs": [
    {
     "name": "stdout",
     "output_type": "stream",
     "text": [
      "X shape:(150, 4),X_new shape:(150, 3)\n"
     ]
    }
   ],
   "source": [
    "# L1-based feature selection\n",
    "#---------------------------------------------------#\n",
    "\n",
    "from sklearn.svm import LinearSVC\n",
    "from sklearn.datasets import load_iris\n",
    "from sklearn.feature_selection import SelectFromModel\n",
    "\n",
    "iris = load_iris()\n",
    "X, y = iris.data, iris.target\n",
    "lsvc = LinearSVC(C=0.01, penalty=\"l1\", dual=False).fit(X, y)\n",
    "model = SelectFromModel(lsvc, prefit=True)\n",
    "X_new = model.transform(X)\n",
    "X_new.shape\n",
    "print(\"X shape:{0},X_new shape:{1}\".format(X.shape,X_new.shape))"
   ]
  },
  {
   "cell_type": "code",
   "execution_count": null,
   "metadata": {},
   "outputs": [],
   "source": []
  }
 ],
 "metadata": {
  "kernelspec": {
   "display_name": "practice",
   "language": "python",
   "name": "practice"
  },
  "language_info": {
   "codemirror_mode": {
    "name": "ipython",
    "version": 3
   },
   "file_extension": ".py",
   "mimetype": "text/x-python",
   "name": "python",
   "nbconvert_exporter": "python",
   "pygments_lexer": "ipython3",
   "version": "3.5.4"
  }
 },
 "nbformat": 4,
 "nbformat_minor": 2
}
