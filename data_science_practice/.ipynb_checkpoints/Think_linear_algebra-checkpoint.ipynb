{
 "cells": [
  {
   "cell_type": "markdown",
   "metadata": {},
   "source": [
    "## Introduction to vectors"
   ]
  },
  {
   "cell_type": "markdown",
   "metadata": {},
   "source": [
    "- Linear combination of 2 vectors\n",
    "> - combination of c.u fill a line, c.u + d.v fill a plane, c.u + d.v + e.w fill a 3-d space\n",
    "\n",
    "- Lengths and dot products( or inner products)\n",
    "> - If v.w = 0 -> two vectors are perpendicular or $$ ||v||^2 + ||w||^2 = ||v-w||^2 $$\n",
    "> - $$ Length = ||v|| = \\sqrt{v.v} $$\n",
    "> - $$ cos\\theta = \\frac{v.w}{||v||.||w||} $$\n",
    "\n",
    "- Matrices\n",
    "> - The Inverse Matrix\n",
    "\n",
    "- Independence and dependence:\n",
    "> - If w in plane of u and v: dependence and independence if it is not.\n",
    "> - If u, v, w is independence, they can fill whole 3-d space. "
   ]
  },
  {
   "cell_type": "markdown",
   "metadata": {},
   "source": [
    "## Lecture 9:"
   ]
  },
  {
   "cell_type": "markdown",
   "metadata": {},
   "source": [
    "- Independent vector: \n",
    "> - If no combination give zero vector ( except zero combination)\n",
    "> - dependence: r < n, independence: r = n\n",
    "> - A is m by n  with m < n: then there are nonzero solution to Ax = 0 ( Thre will be free vector)\n",
    "\n",
    "- Span: V1, V2,..,Vn span a space: The space consist of all combs of those vectors.\n",
    "- Basis: They are independent and they span a space (In R^3, n vectors give basis if the n.n matrix of all columns is invertable)\n"
   ]
  },
  {
   "cell_type": "code",
   "execution_count": 2,
   "metadata": {},
   "outputs": [],
   "source": [
    "import matplotlib.pyplot as plt"
   ]
  },
  {
   "cell_type": "code",
   "execution_count": 8,
   "metadata": {},
   "outputs": [
    {
     "data": {
      "image/png": "[encoded data removed]",
      "text/plain": [
       "<matplotlib.figure.Figure at 0x7f69505d2f28>"
      ]
     },
     "metadata": {},
     "output_type": "display_data"
    }
   ],
   "source": [
    "plt.quiver([0, 0], [0, 0], [1, 2], [2, 4], angles='xy', scale_units='xy', scale=1)\n",
    "plt.grid(b=True, which='major')\n",
    "plt.xlim(-10, 10)\n",
    "plt.ylim(-10, 10)\n",
    "plt.show()"
   ]
  },
  {
   "cell_type": "code",
   "execution_count": null,
   "metadata": {},
   "outputs": [],
   "source": []
  }
 ],
 "metadata": {
  "kernelspec": {
   "display_name": "practice",
   "language": "python",
   "name": "practice"
  },
  "language_info": {
   "codemirror_mode": {
    "name": "ipython",
    "version": 3
   },
   "file_extension": ".py",
   "mimetype": "text/x-python",
   "name": "python",
   "nbconvert_exporter": "python",
   "pygments_lexer": "ipython3",
   "version": "3.5.4"
  }
 },
 "nbformat": 4,
 "nbformat_minor": 2
}
