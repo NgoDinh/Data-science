{
 "cells": [
  {
   "cell_type": "markdown",
   "metadata": {},
   "source": [
    "# Ensemble learning:\n",
    "x --> (averaging method|boosting method) --> better result\n",
    "- averaging method: Votting, bagging-pasting, Random forest( baging method of decision tree)\n",
    "- boosting method:\n",
    "___\n",
    "- Note:\n",
    ">- Ensemble methods work best when the predictors are as independent from one another as possible(Random Subspaces)\n",
    "___\n",
    "- Resources:\n",
    ">- [sklearn_document](http://scikit-learn.org/stable/modules/ensemble.html#ensemble)\n",
    ">- Book: Hands_On_Machine_Learning_with_Scikit_Learn"
   ]
  },
  {
   "cell_type": "markdown",
   "metadata": {
    "slideshow": {
     "slide_type": "notes"
    }
   },
   "source": [
    "## VotingClassifier\n",
    "> Besides hard voting we can use [soft_voting](http://scikit-learn.org/stable/modules/ensemble.html#ensemble) and voting with [GridSerch](http://scikit-learn.org/stable/modules/ensemble.html#ensemble)"
   ]
  },
  {
   "cell_type": "code",
   "execution_count": 1,
   "metadata": {
    "collapsed": true
   },
   "outputs": [],
   "source": [
    "#Load data\n",
    "#---------------------------------------------------#\n",
    "\n",
    "import numpy as np\n",
    "from sklearn.datasets import load_iris\n",
    "from sklearn.model_selection import train_test_split\n",
    "from sklearn.preprocessing import StandardScaler\n",
    "from sklearn.preprocessing import PolynomialFeatures\n",
    "\n",
    "iris = load_iris()\n",
    "X, y = iris.data[:, 1:3], iris.target\n",
    "\n",
    "# std = StandardScaler()\n",
    "# X = std.fit_transform(X)\n",
    "\n",
    "# plf = PolynomialFeatures(degree=3)\n",
    "# X = plf.fit_transform(X)"
   ]
  },
  {
   "cell_type": "code",
   "execution_count": 2,
   "metadata": {
    "collapsed": true
   },
   "outputs": [],
   "source": [
    "#Preparing model\n",
    "#---------------------------------------------------#\n",
    "\n",
    "from sklearn.ensemble import RandomForestClassifier\n",
    "from sklearn.ensemble import VotingClassifier\n",
    "from sklearn.linear_model import LogisticRegression\n",
    "from sklearn.svm import SVC\n",
    "\n",
    "rnd_clf = RandomForestClassifier()\n",
    "svm_clf = SVC()\n",
    "log_clf = LogisticRegression()\n",
    "\n",
    "voting_clf = VotingClassifier(\n",
    "    estimators=[('lr', log_clf), ('svc', svm_clf), ('rf', rnd_clf)],\n",
    "    voting='hard',\n",
    ")"
   ]
  },
  {
   "cell_type": "code",
   "execution_count": 3,
   "metadata": {},
   "outputs": [
    {
     "name": "stdout",
     "output_type": "stream",
     "text": [
      "RandomForestClassifier (0.92666666666666653, 0.057348835113617498)\n",
      "SVC (0.95333333333333337, 0.039999999999999994)\n",
      "LogisticRegression (0.90000000000000002, 0.047140452079103161)\n",
      "VotingClassifier (0.95333333333333337, 0.039999999999999994)\n"
     ]
    }
   ],
   "source": [
    "#Singel model vs Voting\n",
    "#---------------------------------------------------#\n",
    "\n",
    "from sklearn.model_selection import cross_val_score\n",
    "\n",
    "for cfm in (rnd_clf, svm_clf, log_clf, voting_clf):\n",
    "    scores = cross_val_score(cfm, X, y, cv=5, scoring='accuracy')\n",
    "    print(cfm.__class__.__name__,\n",
    "         (scores.mean(), scores.std()))"
   ]
  },
  {
   "cell_type": "markdown",
   "metadata": {},
   "source": [
    "## Bagging and Pasting\n",
    ">-  Sampling both training instances and features is called the Random Patches method\n",
    ">-  Keeping all training instances but sampling features is called the Random Subspaces method( to reduce the correlation between estimators in an ensemble)"
   ]
  },
  {
   "cell_type": "code",
   "execution_count": 4,
   "metadata": {},
   "outputs": [
    {
     "name": "stdout",
     "output_type": "stream",
     "text": [
      "0.94\n",
      "0.913333333333\n"
     ]
    }
   ],
   "source": [
    "#Singel model vs Bagging\n",
    "#---------------------------------------------------#\n",
    "\n",
    "from sklearn.ensemble import BaggingClassifier\n",
    "from sklearn.tree import DecisionTreeClassifier\n",
    "\n",
    "bag_clf = BaggingClassifier(\n",
    "    DecisionTreeClassifier(),\n",
    "    max_samples=0.9,\n",
    "    n_estimators=500,\n",
    "    bootstrap=True,\n",
    "    n_jobs=-1\n",
    ")\n",
    "# change bootstrap = False to have pasting model\n",
    "print(cross_val_score(bag_clf, X, y, cv=5, scoring='accuracy').mean())\n",
    "print(cross_val_score(DecisionTreeClassifier(), X, y, cv=5, scoring='accuracy').mean())"
   ]
  },
  {
   "cell_type": "code",
   "execution_count": 5,
   "metadata": {},
   "outputs": [
    {
     "data": {
      "text/plain": [
       "0.93999999999999995"
      ]
     },
     "execution_count": 5,
     "metadata": {},
     "output_type": "execute_result"
    }
   ],
   "source": [
    "#out-of-bag(oob) instances, we can use it to test model\n",
    "#---------------------------------------------------#\n",
    "\n",
    "bag_clf_oob = BaggingClassifier(\n",
    "    DecisionTreeClassifier(splitter=\"random\"), # spliter to identify how to choose features ( best or random)\n",
    "    max_samples=0.9,\n",
    "    n_estimators=500,\n",
    "    bootstrap=True,\n",
    "    n_jobs=-1,\n",
    "    oob_score=True\n",
    ")\n",
    "bag_clf_oob.fit(X, y)\n",
    "bag_clf_oob.oob_score_"
   ]
  },
  {
   "cell_type": "markdown",
   "metadata": {},
   "source": [
    "## Random forest"
   ]
  },
  {
   "cell_type": "code",
   "execution_count": 6,
   "metadata": {},
   "outputs": [
    {
     "name": "stdout",
     "output_type": "stream",
     "text": [
      "0.94\n"
     ]
    }
   ],
   "source": [
    "#Random forest\n",
    "#---------------------------------------------------#\n",
    "\n",
    "rdf = RandomForestClassifier(n_estimators=500,\n",
    "                            max_leaf_nodes=16,\n",
    "                            n_jobs=-1\n",
    "                            )\n",
    "\n",
    "#Random forest = bagging + decision tree\n",
    "\n",
    "print(cross_val_score(rdf, X, y, cv=5, scoring='accuracy').mean())"
   ]
  },
  {
   "cell_type": "code",
   "execution_count": 7,
   "metadata": {},
   "outputs": [
    {
     "name": "stdout",
     "output_type": "stream",
     "text": [
      "0.946666666667\n"
     ]
    }
   ],
   "source": [
    "# in decision tree we will find best threshold to split\n",
    "# to reduce variance error besides random features (spliter=random), we can random threshold too\n",
    "# this model is called extra ExtraTreesRegressor \n",
    "#---------------------------------------------------#\n",
    "\n",
    "from sklearn.ensemble import ExtraTreesClassifier\n",
    "\n",
    "ext_clf = ExtraTreesClassifier(n_estimators=10,\n",
    "                              max_depth=None,\n",
    "                              min_samples_split=2,\n",
    "                              random_state=0)\n",
    "\n",
    "print(cross_val_score(rdf, X, y, cv=5, scoring='accuracy').mean())"
   ]
  },
  {
   "cell_type": "code",
   "execution_count": 8,
   "metadata": {},
   "outputs": [
    {
     "name": "stdout",
     "output_type": "stream",
     "text": [
      "sepal length (cm) 0.103592420779\n",
      "sepal width (cm) 0.0257376648273\n",
      "petal length (cm) 0.432858559295\n",
      "petal width (cm) 0.437811355099\n"
     ]
    }
   ],
   "source": [
    "#Feature importance with random forest\n",
    "#---------------------------------------------------#\n",
    "\n",
    "rdf.fit(iris['data'], iris['target'])\n",
    "for name, score in zip(iris['feature_names'], rdf.feature_importances_):\n",
    "    print(name, score)"
   ]
  },
  {
   "cell_type": "markdown",
   "metadata": {},
   "source": [
    "# Boosting"
   ]
  },
  {
   "cell_type": "markdown",
   "metadata": {},
   "source": [
    "## Adaboost"
   ]
  },
  {
   "cell_type": "markdown",
   "metadata": {},
   "source": [
    "X --> data set(t) --> model(t) --> error rate --> alpha of model(t) --> update d of instance -->come back(step 2) ==> final result base on w of model\n",
    "> - How to take a data set: replacement ( same size as original data + you can select the\n",
    "same  example  more  than  once)\n",
    "> - Error rate(e) : is just the number of misclassifications over the training set divided by the training set size.\n",
    "> - Alpha of model: $$ \\alpha_t = \\frac{1}{2}*ln(\\frac{1 - e}{e}) $$\n",
    "> - Update d: $$ D_{t+1}(i) = D_t(i)*exp(\\frac{-\\alpha_t*y_i*h(x_i)}{z_t}) $$\n",
    "> - Final result: $$ H_f = sign(\\sum(\\alpha_t*h_t(x)) $$\n",
    "\n",
    "Error rate vs Alpha : Reciprocal ratio\n",
    "___\n",
    "- Note:\n",
    "> - Why update d of a instance can make model predict exactly label of this instance.\n",
    "> - SAME vs SAME.R: SAMME.R uses the probability estimates to update the additive model, while SAMME uses the classifications only. ???\n",
    "___\n",
    "- Resource:\n",
    "> - [mccormickml](http://mccormickml.com/2013/12/13/adaboost-tutorial/)\n",
    "> - [analyticsvidhya](https://www.analyticsvidhya.com/blog/2015/11/quick-introduction-boosting-algorithms-machine-learning/)\n",
    "> - [sklearn_example](http://scikit-learn.org/stable/auto_examples/ensemble/plot_adaboost_multiclass.html#sphx-glr-auto-examples-ensemble-plot-adaboost-multiclass-py)\n",
    "> - Book: Machine learning in action & hands on machine learning"
   ]
  },
  {
   "cell_type": "code",
   "execution_count": 9,
   "metadata": {},
   "outputs": [
    {
     "name": "stderr",
     "output_type": "stream",
     "text": [
      "/home/mmr/.local/lib/python3.5/site-packages/ipykernel_launcher.py:8: RuntimeWarning: divide by zero encountered in true_divide\n",
      "  \n",
      "/home/mmr/.local/lib/python3.5/site-packages/ipykernel_launcher.py:8: RuntimeWarning: divide by zero encountered in log\n",
      "  \n"
     ]
    },
    {
     "data": {
      "text/plain": [
       "<matplotlib.figure.Figure at 0x7f0e342236a0>"
      ]
     },
     "metadata": {},
     "output_type": "display_data"
    }
   ],
   "source": [
    "#Error rate vs alpha\n",
    "#---------------------------------------------------#\n",
    "\n",
    "import matplotlib.pyplot as plt\n",
    "import numpy as np\n",
    "\n",
    "E_trial = np.linspace(0, 1, 100)\n",
    "alpha_trial = np.log((1 - E_trial) / E_trial) / 2\n",
    "\n",
    "plt.plot(E_trial, alpha_trial)\n",
    "plt.show()"
   ]
  },
  {
   "cell_type": "code",
   "execution_count": 10,
   "metadata": {},
   "outputs": [
    {
     "data": {
      "text/plain": [
       "[<matplotlib.lines.Line2D at 0x7f0e342372e8>]"
      ]
     },
     "execution_count": 10,
     "metadata": {},
     "output_type": "execute_result"
    },
    {
     "data": {
      "image/png": "[encoded data removed]",
      "text/plain": [
       "<matplotlib.figure.Figure at 0x7f0e258330b8>"
      ]
     },
     "metadata": {},
     "output_type": "display_data"
    }
   ],
   "source": [
    "#alpha vs D\n",
    "#---------------------------------------------------#\n",
    "\n",
    "e_power_alpha = np.exp(alpha_trial) #if incorrectly \n",
    "e_power_neg_alpha = np.exp(-alpha_trial) #if correctly predicted\n",
    "\n",
    "plt.plot(alpha_trial, e_power_alpha, 'g-')\n",
    "plt.plot(alpha_trial, e_power_neg_alpha, 'r+')"
   ]
  },
  {
   "cell_type": "code",
   "execution_count": 11,
   "metadata": {},
   "outputs": [
    {
     "name": "stdout",
     "output_type": "stream",
     "text": [
      "0.9\n"
     ]
    }
   ],
   "source": [
    "#Adaboost\n",
    "#---------------------------------------------------#\n",
    "\n",
    "from sklearn.ensemble import AdaBoostClassifier\n",
    "\n",
    "X_train, X_test, y_train, y_test = train_test_split(X, y, random_state=1, test_size=0.2)\n",
    "\n",
    "ada_clf = AdaBoostClassifier(DecisionTreeClassifier(max_depth=2),\n",
    "                             n_estimators=600,\n",
    "                            learning_rate=1.5,\n",
    "                            algorithm='SAMME.R')\n",
    "\n",
    "print(cross_val_score(ada_clf, X, y, cv=5, scoring='accuracy').mean())"
   ]
  },
  {
   "cell_type": "markdown",
   "metadata": {},
   "source": [
    "## Gradient boosting"
   ]
  },
  {
   "cell_type": "markdown",
   "metadata": {},
   "source": [
    "The goal of this algorithm is finding a h(x) function to boosting F(x) function\n",
    "> $$ F_0(x) = \\underset{\\gamma}{\\arg\\min} \\sum_{i=1}^n L(y_i, \\gamma) = \\underset{\\gamma}{\\arg\\min} \\sum_{i=1}^n (\\gamma - y_i)^2 = {\\displaystyle {\\frac {1}{n}}\\sum _{i=1}^{n}y_{i}.} $$\n",
    "> $$ F_{m+1}(x) = F_m(x) + h_m(x) = y $$\n",
    "> $$ F(x) = F_1(x) \\mapsto F_2(x) = F_1(x) + h_1(x) \\dots \\mapsto F_M(x) = F_{M-1}(x) + h_{M-1}(x) $$\n",
    "\n",
    "___\n",
    "\n",
    "- Note:\n",
    "> - How to select the best value for the model’s hyper-parameter m: testing different values of m via cross-validation\n",
    "> - [How to use XGboost package to perform tree_base model](https://github.com/dataworkshop/xgboost)\n",
    "___\n",
    "- Resources:\n",
    "> - [Kaggle](http://blog.kaggle.com/2017/01/23/a-kaggle-master-explains-gradient-boosting/)\n",
    "> - Hands on machine learning"
   ]
  },
  {
   "cell_type": "code",
   "execution_count": 20,
   "metadata": {},
   "outputs": [
    {
     "name": "stdout",
     "output_type": "stream",
     "text": [
      "[ 0.75026781]\n"
     ]
    }
   ],
   "source": [
    "from sklearn.tree import DecisionTreeRegressor\n",
    "import numpy.random as rnd\n",
    "\n",
    "# training set: a noisy quadratic function\n",
    "#---------------------------------------------------#\n",
    "rnd.seed(42)\n",
    "X = rnd.rand(100, 1) - 0.5\n",
    "y = 3*X[:, 0]**2 + 0.05 * rnd.randn(100)\n",
    "\n",
    "# train Regressor\n",
    "#---------------------------------------------------#\n",
    "tree_reg1 = DecisionTreeRegressor(max_depth=2, random_state=42)\n",
    "tree_reg1.fit(X, y)\n",
    "\n",
    "# now train 2nd Regressor using errors made by 1st one.\n",
    "#---------------------------------------------------#\n",
    "y2 = y - tree_reg1.predict(X)\n",
    "tree_reg2 = DecisionTreeRegressor(max_depth=2, random_state=42)\n",
    "tree_reg2.fit(X, y2)\n",
    "\n",
    "# now train 3rd Regressor using errors made by 2nd one.\n",
    "#---------------------------------------------------#\n",
    "y3 = y2 - tree_reg2.predict(X)\n",
    "tree_reg3 = DecisionTreeRegressor(max_depth=2, random_state=42)\n",
    "tree_reg3.fit(X, y3)\n",
    "\n",
    "X_new = np.array([[0.8]])\n",
    "\n",
    "# now have ensemble w/ three trees.\n",
    "#---------------------------------------------------#\n",
    "y_pred = sum(tree.predict(X_new) for tree in (\n",
    "    tree_reg1, tree_reg2, tree_reg3))\n",
    "\n",
    "print(y_pred)"
   ]
  },
  {
   "cell_type": "code",
   "execution_count": 22,
   "metadata": {},
   "outputs": [
    {
     "data": {
      "text/plain": [
       "GradientBoostingRegressor(alpha=0.9, criterion='friedman_mse', init=None,\n",
       "             learning_rate=0.1, loss='ls', max_depth=2, max_features=None,\n",
       "             max_leaf_nodes=None, min_impurity_decrease=0.0,\n",
       "             min_impurity_split=None, min_samples_leaf=1,\n",
       "             min_samples_split=2, min_weight_fraction_leaf=0.0,\n",
       "             n_estimators=3, presort='auto', random_state=42,\n",
       "             subsample=1.0, verbose=0, warm_start=False)"
      ]
     },
     "execution_count": 22,
     "metadata": {},
     "output_type": "execute_result"
    }
   ],
   "source": [
    "# Gradient boosting in sklearn.\n",
    "#---------------------------------------------------#\n",
    "from sklearn.ensemble import GradientBoostingRegressor\n",
    "\n",
    "gbrt = GradientBoostingRegressor(\n",
    "    max_depth=2, \n",
    "    n_estimators=3, \n",
    "    learning_rate=0.1, \n",
    "    random_state=42)\n",
    "\n",
    "gbrt.fit(X, y)"
   ]
  },
  {
   "cell_type": "code",
   "execution_count": 25,
   "metadata": {},
   "outputs": [
    {
     "data": {
      "text/plain": [
       "28"
      ]
     },
     "execution_count": 25,
     "metadata": {},
     "output_type": "execute_result"
    }
   ],
   "source": [
    "#Find number of trees\n",
    "#---------------------------------------------------#\n",
    "from sklearn.metrics import mean_squared_error\n",
    "\n",
    "gbrt_1 = GradientBoostingRegressor(max_depth=2,\n",
    "                                   n_estimators=120)\n",
    "gbrt_1.fit(X_train, y_train)\n",
    "errors = [mean_squared_error(y_test, y_pred)\n",
    "         for y_pred in  gbrt_1.staged_predict(X_test)]\n",
    "best = np.argmin(errors)\n",
    "best\n",
    "#besides we can use early stopping to find number of tree to train model."
   ]
  },
  {
   "cell_type": "markdown",
   "metadata": {},
   "source": [
    "## Stacking"
   ]
  },
  {
   "cell_type": "markdown",
   "metadata": {},
   "source": [
    "$$ X \\underset{f_1(X),f_2(X),f_3(X)}{\\mapsto} y_1,y_2,y_3 \\underset{f_1(Y),f_2(Y),f_3(Y)}{\\mapsto} y $$\n",
    "- Note:\n",
    "> - 3 predictor and 2 layer is just example, in real we can select another number\n",
    "\n",
    "- Resource:\n",
    "> - Hands on machine learning"
   ]
  },
  {
   "cell_type": "code",
   "execution_count": null,
   "metadata": {},
   "outputs": [],
   "source": [
    " "
   ]
  }
 ],
 "metadata": {
  "kernelspec": {
   "display_name": "practice",
   "language": "python",
   "name": "practice"
  },
  "language_info": {
   "codemirror_mode": {
    "name": "ipython",
    "version": 3
   },
   "file_extension": ".py",
   "mimetype": "text/x-python",
   "name": "python",
   "nbconvert_exporter": "python",
   "pygments_lexer": "ipython3",
   "version": "3.5.4"
  }
 },
 "nbformat": 4,
 "nbformat_minor": 2
}
