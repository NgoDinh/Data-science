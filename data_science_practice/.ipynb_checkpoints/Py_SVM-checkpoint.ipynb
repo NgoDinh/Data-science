{
 "cells": [
  {
   "cell_type": "markdown",
   "metadata": {},
   "source": [
    "## SVC"
   ]
  },
  {
   "cell_type": "markdown",
   "metadata": {},
   "source": [
    "Introduce:\n",
    "- Predict: Compute decission function: yhat = w^T * x + b. If yhat > 0 return 1 else 0\n",
    "- How to train: Find w and b, that make margin as wide as possible while limiting margin violations\n",
    "- smaller w will make bigger marin\n",
    "___ \n",
    "- Soft margin: we can find linear separate so we accept some error instances -> soft margin (we add slack variables to equation) -> minimize w and slack variables\n",
    "- Nonlinear: If we can't find linear separate -> convert data to another space ( use kenel method) ->find linear space\n",
    "___\n",
    "- Loss function -> hinge loss: max(0, 1 - t*y), It can be seen that when t and y have the same sign (meaning y predicts the right class) and | y | ≥ 1 , the hinge loss ℓ ( y ) = 0 \n",
    "___\n",
    "- One vs rest: We take values of one class and turn them into positive examples, and the rest of classes - into negatives"
   ]
  },
  {
   "cell_type": "code",
   "execution_count": 1,
   "metadata": {
    "collapsed": true
   },
   "outputs": [],
   "source": [
    "#Import necessery library\n",
    "#---------------------------------------------------#\n",
    "\n",
    "import numpy as np\n",
    "from sklearn.pipeline import Pipeline\n",
    "from sklearn.preprocessing import StandardScaler\n",
    "from sklearn.datasets import load_iris\n",
    "from IPython.display import Image"
   ]
  },
  {
   "cell_type": "code",
   "execution_count": 8,
   "metadata": {
    "collapsed": true
   },
   "outputs": [],
   "source": [
    "#Load data\n",
    "#---------------------------------------------------#\n",
    "\n",
    "iris = load_iris()\n",
    "X = iris['data'][:,(2, 3)]\n",
    "y = (iris['target'] == 2).astype(np.float64)"
   ]
  },
  {
   "cell_type": "markdown",
   "metadata": {
    "collapsed": true
   },
   "source": [
    ">### Linear SVC\n",
    "LinearSVC | SVC"
   ]
  },
  {
   "cell_type": "code",
   "execution_count": 27,
   "metadata": {},
   "outputs": [
    {
     "name": "stdout",
     "output_type": "stream",
     "text": [
      "[ 1.]\n",
      "[ 1.]\n"
     ]
    }
   ],
   "source": [
    "#Linear SVC\n",
    "#---------------------------------------------------#\n",
    "\n",
    "from sklearn.svm import LinearSVC\n",
    "\n",
    "SVC_linear_1 = Pipeline((\n",
    "    ('scaler', StandardScaler()),\n",
    "    ('model', LinearSVC(loss = 'hinge', C = 1))\n",
    "))\n",
    "\n",
    "SVC_linear_1.fit(X, y)\n",
    "print(SVC_linear_1.predict([[5.5, 1.7]]))\n",
    "\n",
    "#SVC\n",
    "#---------------------------------------------------#\n",
    "\n",
    "from sklearn.svm import SVC\n",
    "\n",
    "SVC_linear_2 = Pipeline((\n",
    "    ('scaler', StandardScaler()),\n",
    "    ('model', SVC(C = 1, kernel = 'linear'))\n",
    "))\n",
    "\n",
    "SVC_linear_2.fit(X, y)\n",
    "print(SVC_linear_2.predict([[5.5, 1.7]]))"
   ]
  },
  {
   "cell_type": "markdown",
   "metadata": {},
   "source": [
    "> ### Non-linear SVC\n",
    "LinearSVC & PolyFeatures | SVC + kernel"
   ]
  },
  {
   "cell_type": "code",
   "execution_count": 33,
   "metadata": {},
   "outputs": [
    {
     "name": "stdout",
     "output_type": "stream",
     "text": [
      "[ 1.]\n",
      "[ 1.]\n"
     ]
    }
   ],
   "source": [
    "#LinearSVC\n",
    "#---------------------------------------------------#\n",
    "\n",
    "from sklearn.preprocessing import PolynomialFeatures\n",
    "\n",
    "SVC_nonlinear_1 = Pipeline((\n",
    "    ('scaler', StandardScaler()),\n",
    "    ('polyFeature', PolynomialFeatures(degree = 3)),# we use PolynomialFeatures to convert data\n",
    "    ('model', LinearSVC(loss = 'hinge', C = 1))\n",
    "))\n",
    "\n",
    "SVC_nonlinear_1.fit(X, y)\n",
    "print(SVC_nonlinear_1.predict([[5.5, 1.7]]))\n",
    "\n",
    "#SVC\n",
    "#---------------------------------------------------#\n",
    "\n",
    "SVC_nonlinear_2 = Pipeline((\n",
    "    ('scaler', StandardScaler()),\n",
    "    ('model', SVC(C = 1, kernel = 'poly', degree = 3, gamma = 1))#kernel is poly - in linear, kernel is linnear\n",
    "))\n",
    "\n",
    "SVC_nonlinear_2.fit(X, y)\n",
    "print(SVC_nonlinear_2.predict([[5.5, 1.7]]))\n",
    "\n",
    "#besides poly we can use RBF or sigmoid"
   ]
  },
  {
   "cell_type": "markdown",
   "metadata": {
    "collapsed": true
   },
   "source": [
    "## SVM regression\n",
    "Instead of trying to fit the largest possible street between two classes while limiting margin violations, SVM Regression tries to fit as many instances as possible on the street while limiting margin violations. Epsilone is large of street."
   ]
  },
  {
   "cell_type": "code",
   "execution_count": 34,
   "metadata": {},
   "outputs": [
    {
     "data": {
      "text/plain": [
       "SVR(C=100, cache_size=200, coef0=0.0, degree=2, epsilon=1.5, gamma='auto',\n",
       "  kernel='poly', max_iter=-1, shrinking=True, tol=0.001, verbose=False)"
      ]
     },
     "execution_count": 34,
     "metadata": {},
     "output_type": "execute_result"
    }
   ],
   "source": [
    "#LinearSVR\n",
    "#---------------------------------------------------#\n",
    "\n",
    "from sklearn.svm import LinearSVR\n",
    "SVR_linear_1 = LinearSVR(epsilon = 1.5)\n",
    "SVR_linear_1.fit(X,y)\n",
    "\n",
    "#SVR\n",
    "#---------------------------------------------------#\n",
    "\n",
    "from sklearn.svm import SVR\n",
    "SVR_linear_2 = SVR(epsilon = 1.5, kernel = 'poly',\n",
    "                  C = 100, degree = 2)\n",
    "SVR_linear_2.fit(X, y)"
   ]
  },
  {
   "cell_type": "markdown",
   "metadata": {},
   "source": [
    "## Multiclass SVM"
   ]
  }
 ],
 "metadata": {
  "kernelspec": {
   "display_name": "practice",
   "language": "python",
   "name": "practice"
  },
  "language_info": {
   "codemirror_mode": {
    "name": "ipython",
    "version": 3
   },
   "file_extension": ".py",
   "mimetype": "text/x-python",
   "name": "python",
   "nbconvert_exporter": "python",
   "pygments_lexer": "ipython3",
   "version": "3.5.4"
  }
 },
 "nbformat": 4,
 "nbformat_minor": 2
}
