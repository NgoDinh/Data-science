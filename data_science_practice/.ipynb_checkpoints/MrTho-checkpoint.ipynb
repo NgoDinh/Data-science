{
 "cells": [
  {
   "cell_type": "markdown",
   "metadata": {},
   "source": [
    "Note\n",
    "- phuong phap tu dong gan nhan du lieu: \n",
    "- Tf.idf dung cho tien xu li du lieu text\n",
    "- tu xay dung data.\n",
    "\n",
    "___\n",
    "Kien thuc\n",
    "- Inductive learning(ID3 and C4.5) tim hieu ve hai khai niem nay????\n",
    "\n",
    "- 5 huong tiep can cua bai toan thuc te.\n",
    "> - Logic: vi a nen b\n",
    "> - tien hoa: cu tien xu ly, lap di lap lai, thi loai bo cac pp kem, quan the sau luon tot hon quan the truoc(GA)\n",
    "> - neuron: neuron nay truyen kien thuc neuron kia den cuoi cung, phan hoi lai de cac neuron khac de dieu chinh\n",
    "> - Bayes: tu % trong qua khu, de dua ra hien tai\n",
    "> - Kernel machine: dung de bien khong gian it chieu ra nhieu chieu de phan loai.\n",
    "___\n",
    "\n",
    ">- Deduction: cause +rule > effect ???\n",
    "- abdeduction: \n",
    "- Induction: cause + effect -> rule (thuong dung trong thuc te): Tom mitchel va decision tree\n",
    "\n",
    "___\n",
    "\n",
    "- cay tot nhat khi co chieu sau thap nhat\n",
    "- ly thuyt ang sau information gain.\n",
    "- cho tot khi cac thuoc tinh la nomino: khong co su khac biet khoang cach giua cac thuoc tinh, full du lieu.\n",
    "- c4.5 ap dung tree tren cay, dung validate test, cao nao cho ra sai loi nhieu thi cat bot cac node do di.thuat toan dang sau la gi---c4.5 xu ly voi du lieu lien tuc.\n",
    "- bootstrap tang perfoormance cho cac du lieu hon don"
   ]
  }
 ],
 "metadata": {
  "kernelspec": {
   "display_name": "practice",
   "language": "python",
   "name": "practice"
  },
  "language_info": {
   "codemirror_mode": {
    "name": "ipython",
    "version": 3
   },
   "file_extension": ".py",
   "mimetype": "text/x-python",
   "name": "python",
   "nbconvert_exporter": "python",
   "pygments_lexer": "ipython3",
   "version": "3.5.4"
  }
 },
 "nbformat": 4,
 "nbformat_minor": 2
}
