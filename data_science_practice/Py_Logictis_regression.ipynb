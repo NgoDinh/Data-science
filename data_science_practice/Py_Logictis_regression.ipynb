{
 "cells": [
  {
   "cell_type": "markdown",
   "metadata": {},
   "source": [
    "## Linear regression\n",
    "$$ Input(X,y) \\mapsto Generalization(z = f(\\mathcal{w}X)) \\mapsto Prediction(\\hat{y}) $$\n",
    "$$ f(s) = \\frac{1}{1 + e^{-s}} $$\n",
    "$$ threshold = 0.5 $$\n",
    "- Loss function:\n",
    "$$ J(w) = -\\sum_{i=1}^N(y_i \\log {z}_i + (1-y_i) \\log (1 - {z}_i))$$\n",
    "- Find W:\n",
    "> - Stochastic Gradient Descent:\n",
    "$$ w = w + \\eta(y_i - z_i)x_i $$\n",
    "___\n",
    "- Multinomial Logistic Regression:(Softmax)\n",
    "> $$ Input(X,y) \\mapsto Generalization(P_k = f(\\mathcal{w}X)_k) \\mapsto Prediction(\\hat{y}) $$\n",
    "> $$ f(s)_k = \\frac{\\exp(s_i)}{\\sum_{j=1}^C \\exp(s_j)}, ~~ \\forall i = 1, 2, \\dots, C $$\n",
    "___\n",
    "- Note:\n",
    "___\n",
    "- Resources:\n",
    "> - Book: Hands_on_machine_learning\n",
    "> - Blog: [Machinelearningcoban](https://machinelearningcoban.com/2016/12/28/linearregression/)\n",
    "> - CS229 note"
   ]
  },
  {
   "cell_type": "code",
   "execution_count": 5,
   "metadata": {},
   "outputs": [
    {
     "data": {
      "text/plain": [
       "dict_keys(['feature_names', 'target_names', 'data', 'DESCR', 'target'])"
      ]
     },
     "execution_count": 5,
     "metadata": {},
     "output_type": "execute_result"
    }
   ],
   "source": [
    "import numpy as np\n",
    "import pandas as pd\n",
    "from sklearn.datasets import load_iris\n",
    "from sklearn.utils import shuffle\n",
    "from sklearn.model_selection import train_test_split\n",
    "\n",
    "iris = load_iris()\n",
    "iris.keys()"
   ]
  },
  {
   "cell_type": "code",
   "execution_count": 6,
   "metadata": {},
   "outputs": [],
   "source": [
    "iris_X = iris['data']\n",
    "iris_y = (iris['target'] == 2).astype(np.int)\n",
    "iris_X, iris_y = shuffle( iris_X, iris_y)\n",
    "iris_X_train, iris_X_test, iris_y_train, iris_y_test = train_test_split(iris_X, iris_y, test_size = 0.2)"
   ]
  },
  {
   "cell_type": "code",
   "execution_count": 7,
   "metadata": {},
   "outputs": [
    {
     "data": {
      "text/plain": [
       "[[0.8537034749105638, 0.14629652508943622],\n",
       " [0.999770882779512, 0.00022911722048803956],\n",
       " [0.9999499900439668, 5.000995603320993e-05],\n",
       " [0.9998894943833992, 0.00011050561660080232],\n",
       " [0.9120809305597452, 0.08791906944025481],\n",
       " [0.999812289816246, 0.00018771018375396165],\n",
       " [0.28509477476650424, 0.7149052252334958],\n",
       " [0.3892503483039884, 0.6107496516960116],\n",
       " [0.9999885825511509, 1.1417448849153753e-05],\n",
       " [0.5516759348722915, 0.44832406512770856],\n",
       " [0.610073111147478, 0.389926888852522],\n",
       " [0.7427775987281993, 0.2572224012718008],\n",
       " [0.05914874096862499, 0.940851259031375],\n",
       " [0.9999197031337124, 8.029686628762306e-05],\n",
       " [0.8823932686739491, 0.11760673132605089],\n",
       " [0.17635460813399995, 0.823645391866],\n",
       " [0.2196269041483072, 0.7803730958516928],\n",
       " [0.6797756755419236, 0.32022432445807636],\n",
       " [0.8994006448396327, 0.10059935516036732],\n",
       " [0.27795887999525015, 0.7220411200047498],\n",
       " [0.6792109770627377, 0.3207890229372623],\n",
       " [0.35677689804147406, 0.643223101958526],\n",
       " [0.9097046537973432, 0.09029534620265678],\n",
       " [0.8276190548491515, 0.1723809451508484],\n",
       " [0.39561759937738294, 0.604382400622617],\n",
       " [0.6913336137727741, 0.3086663862272259],\n",
       " [0.13803444605555037, 0.8619655539444496],\n",
       " [0.9998918879137649, 0.0001081120862350569],\n",
       " [0.017977145851178156, 0.9820228541488218],\n",
       " [0.07436518964574113, 0.9256348103542589]]"
      ]
     },
     "execution_count": 7,
     "metadata": {},
     "output_type": "execute_result"
    }
   ],
   "source": [
    "from sklearn.linear_model import LogisticRegression\n",
    "lgr = LogisticRegression()\n",
    "lgr.fit(iris_X_train, iris_y_train)\n",
    "lgr_pro = lgr.predict_proba(iris_X_test)\n",
    "\n",
    "def convert_to_float(input_list):\n",
    "    final_list = []\n",
    "    for i in input_list:\n",
    "        final_list.append(float(i))\n",
    "    return final_list\n",
    "\n",
    "lgr_pro1 = [convert_to_float(x) for x in lgr_pro]\n",
    "lgr_pro1"
   ]
  },
  {
   "cell_type": "code",
   "execution_count": 8,
   "metadata": {},
   "outputs": [
    {
     "data": {
      "text/plain": [
       "array([0, 0, 0, 0, 0, 0, 1, 1, 0, 0, 0, 0, 1, 0, 0, 1, 1, 0, 0, 1, 0, 1, 0,\n",
       "       0, 1, 0, 1, 0, 1, 1])"
      ]
     },
     "execution_count": 8,
     "metadata": {},
     "output_type": "execute_result"
    }
   ],
   "source": [
    "lgr_predict = lgr.predict(iris_X_test)\n",
    "lgr_predict"
   ]
  },
  {
   "cell_type": "code",
   "execution_count": 12,
   "metadata": {},
   "outputs": [
    {
     "data": {
      "text/plain": [
       "0.21969275682045508"
      ]
     },
     "execution_count": 12,
     "metadata": {},
     "output_type": "execute_result"
    }
   ],
   "source": [
    "from sklearn.metrics import log_loss\n",
    "\n",
    "log_loss_score = log_loss(iris_y_test, lgr_pro1)\n",
    "log_loss_score"
   ]
  },
  {
   "cell_type": "markdown",
   "metadata": {},
   "source": [
    "### SOFTMAX"
   ]
  },
  {
   "cell_type": "code",
   "execution_count": 15,
   "metadata": {},
   "outputs": [
    {
     "name": "stdout",
     "output_type": "stream",
     "text": [
      "[2 2 2 1 1 0 1 2 0 2 2 0 1 2 2 1 1 0 2 1 1 0 2 1 0 0 2 0 1 0 0 1 1 2 0 2 1\n",
      " 1]\n"
     ]
    }
   ],
   "source": [
    "softmax = LogisticRegression(multi_class = 'multinomial', solver ='lbfgs', C = 10)\n",
    "\n",
    "iris_X1, iris_y1 = shuffle( iris.data, iris.target)\n",
    "iris_X1_train, iris_X1_test, iris_y1_train, iris_y1_test = train_test_split(iris_X1, iris_y1)\n",
    "\n",
    "softmax.fit(iris_X1_train, iris_y1_train)\n",
    "softmax_predict = softmax.predict(iris_X1_test)\n",
    "print(softmax_predict)"
   ]
  },
  {
   "cell_type": "code",
   "execution_count": 16,
   "metadata": {},
   "outputs": [
    {
     "data": {
      "text/plain": [
       "0.97368421052631582"
      ]
     },
     "execution_count": 16,
     "metadata": {},
     "output_type": "execute_result"
    }
   ],
   "source": [
    "softmax.score(iris_X1_test, iris_y1_test)"
   ]
  },
  {
   "cell_type": "code",
   "execution_count": null,
   "metadata": {},
   "outputs": [],
   "source": []
  }
 ],
 "metadata": {
  "kernelspec": {
   "display_name": "practice",
   "language": "python",
   "name": "practice"
  },
  "language_info": {
   "codemirror_mode": {
    "name": "ipython",
    "version": 3
   },
   "file_extension": ".py",
   "mimetype": "text/x-python",
   "name": "python",
   "nbconvert_exporter": "python",
   "pygments_lexer": "ipython3",
   "version": "3.5.4"
  }
 },
 "nbformat": 4,
 "nbformat_minor": 2
}
