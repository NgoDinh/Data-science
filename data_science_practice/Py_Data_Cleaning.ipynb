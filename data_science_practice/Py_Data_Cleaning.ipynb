{
 "cells": [
  {
   "cell_type": "code",
   "execution_count": 1,
   "metadata": {},
   "outputs": [
    {
     "data": {
      "text/html": [
       "<div>\n",
       "<style scoped>\n",
       "    .dataframe tbody tr th:only-of-type {\n",
       "        vertical-align: middle;\n",
       "    }\n",
       "\n",
       "    .dataframe tbody tr th {\n",
       "        vertical-align: top;\n",
       "    }\n",
       "\n",
       "    .dataframe thead th {\n",
       "        text-align: right;\n",
       "    }\n",
       "</style>\n",
       "<table border=\"1\" class=\"dataframe\">\n",
       "  <thead>\n",
       "    <tr style=\"text-align: right;\">\n",
       "      <th></th>\n",
       "      <th>Class label</th>\n",
       "      <th>Alcohol</th>\n",
       "      <th>Malic acid</th>\n",
       "    </tr>\n",
       "  </thead>\n",
       "  <tbody>\n",
       "    <tr>\n",
       "      <th>0</th>\n",
       "      <td>1</td>\n",
       "      <td>14.23</td>\n",
       "      <td>1.71</td>\n",
       "    </tr>\n",
       "    <tr>\n",
       "      <th>1</th>\n",
       "      <td>1</td>\n",
       "      <td>13.20</td>\n",
       "      <td>1.78</td>\n",
       "    </tr>\n",
       "    <tr>\n",
       "      <th>2</th>\n",
       "      <td>1</td>\n",
       "      <td>13.16</td>\n",
       "      <td>2.36</td>\n",
       "    </tr>\n",
       "    <tr>\n",
       "      <th>3</th>\n",
       "      <td>1</td>\n",
       "      <td>14.37</td>\n",
       "      <td>1.95</td>\n",
       "    </tr>\n",
       "    <tr>\n",
       "      <th>4</th>\n",
       "      <td>1</td>\n",
       "      <td>13.24</td>\n",
       "      <td>2.59</td>\n",
       "    </tr>\n",
       "  </tbody>\n",
       "</table>\n",
       "</div>"
      ],
      "text/plain": [
       "   Class label  Alcohol  Malic acid\n",
       "0            1    14.23        1.71\n",
       "1            1    13.20        1.78\n",
       "2            1    13.16        2.36\n",
       "3            1    14.37        1.95\n",
       "4            1    13.24        2.59"
      ]
     },
     "execution_count": 1,
     "metadata": {},
     "output_type": "execute_result"
    }
   ],
   "source": [
    "#input data\n",
    "import pandas as pd\n",
    "\n",
    "df = pd.io.parsers.read_csv('https://raw.githubusercontent.com/rasbt/pattern_classification/master/data/wine_data.csv',\n",
    "                           usecols = [0, 1, 2], header = None)\n",
    "df.columns=['Class label', 'Alcohol', 'Malic acid']\n",
    "df.head()"
   ]
  },
  {
   "cell_type": "code",
   "execution_count": 2,
   "metadata": {
    "collapsed": true
   },
   "outputs": [],
   "source": [
    "from sklearn.model_selection import train_test_split\n",
    "\n",
    "X_train, X_test = train_test_split(df, test_size = 0.3)"
   ]
  },
  {
   "cell_type": "markdown",
   "metadata": {},
   "source": [
    "> ### Int "
   ]
  },
  {
   "cell_type": "code",
   "execution_count": 3,
   "metadata": {
    "collapsed": true
   },
   "outputs": [],
   "source": [
    "#Standard transform\n",
    "from sklearn.preprocessing import StandardScaler\n",
    "\n",
    "std = StandardScaler().fit(X_train[['Alcohol', 'Malic acid']])\n",
    "X_train_std = std.transform(X_train[['Alcohol', 'Malic acid']])\n",
    "X_test_std = std.transform(X_test[['Alcohol', 'Malic acid']])"
   ]
  },
  {
   "cell_type": "code",
   "execution_count": 4,
   "metadata": {
    "collapsed": true
   },
   "outputs": [],
   "source": [
    "#Normalizer transform\n",
    "from sklearn.preprocessing import Normalizer\n",
    "\n",
    "nml = Normalizer().fit(X_train[['Alcohol', 'Malic acid']])\n",
    "X_train_nml = nml.transform(X_train[['Alcohol', 'Malic acid']])\n",
    "X_test_nml = nml.transform(X_test[['Alcohol', 'Malic acid']])"
   ]
  },
  {
   "cell_type": "code",
   "execution_count": 5,
   "metadata": {
    "collapsed": true
   },
   "outputs": [],
   "source": [
    "%matplotlib inline"
   ]
  },
  {
   "cell_type": "code",
   "execution_count": 6,
   "metadata": {},
   "outputs": [
    {
     "data": {
      "image/png": "[encoded data removed]",
      "text/plain": [
       "<matplotlib.figure.Figure at 0x7f5bfdfc6f98>"
      ]
     },
     "metadata": {},
     "output_type": "display_data"
    }
   ],
   "source": [
    "#plotting\n",
    "import matplotlib.pyplot as plt\n",
    "\n",
    "plt.figure(figsize=(8,6))\n",
    "plt.scatter(X_train['Alcohol'], X_train['Malic acid'], color = 'blue',\n",
    "           label = 'input data', alpha = 0.5)\n",
    "plt.scatter(X_train_std[:, 0], X_train_std[:, 1], color = 'red',\n",
    "           label = 'std_data', alpha = 0.3)\n",
    "plt.scatter(X_train_nml[:, 0], X_train_nml[:, 1], color = 'green',\n",
    "           label = 'nml_data', alpha = 0.3)\n",
    "plt.legend()\n",
    "plt.xlabel('Alcohol')\n",
    "plt.ylabel('Malic acid')\n",
    "plt.title('Original vs Standard vs Normalizer')\n",
    "plt.grid()"
   ]
  },
  {
   "cell_type": "markdown",
   "metadata": {
    "collapsed": true
   },
   "source": [
    ">### List or Dir "
   ]
  },
  {
   "cell_type": "code",
   "execution_count": 7,
   "metadata": {
    "collapsed": true
   },
   "outputs": [],
   "source": [
    "# load data from json file\n",
    "df1 = pd.read_json('all_lobsters.json')"
   ]
  },
  {
   "cell_type": "code",
   "execution_count": 8,
   "metadata": {
    "collapsed": true
   },
   "outputs": [],
   "source": [
    "# create a function to view data\n",
    "def view_data(data_frame, iloc):\n",
    "    columns_name = data_frame.columns\n",
    "    print(data_frame.dtypes)\n",
    "    print('=' * 10)\n",
    "    for name in columns_name:\n",
    "        print(name)\n",
    "        print('-' * 5)\n",
    "        print(data_frame[name][iloc])\n",
    "        print('=' * 10)"
   ]
  },
  {
   "cell_type": "code",
   "execution_count": 9,
   "metadata": {},
   "outputs": [
    {
     "name": "stdout",
     "output_type": "stream",
     "text": [
      "comment_count              int64\n",
      "comments_url              object\n",
      "created_at        datetime64[ns]\n",
      "description               object\n",
      "downvotes                  int64\n",
      "last_updated              object\n",
      "score                      int64\n",
      "short_id_url              object\n",
      "submitter_user            object\n",
      "tags                      object\n",
      "title                     object\n",
      "upvotes                    int64\n",
      "url                       object\n",
      "dtype: object\n",
      "==========\n",
      "comment_count\n",
      "-----\n",
      "1\n",
      "==========\n",
      "comments_url\n",
      "-----\n",
      "https://lobste.rs/s/2kiouh/result_objects_errors_without\n",
      "==========\n",
      "created_at\n",
      "-----\n",
      "2017-04-30 17:14:54\n",
      "==========\n",
      "description\n",
      "-----\n",
      "\n",
      "==========\n",
      "downvotes\n",
      "-----\n",
      "0\n",
      "==========\n",
      "last_updated\n",
      "-----\n",
      "2017-05-01T06:29:11.725518\n",
      "==========\n",
      "score\n",
      "-----\n",
      "6\n",
      "==========\n",
      "short_id_url\n",
      "-----\n",
      "https://lobste.rs/s/2kiouh\n",
      "==========\n",
      "submitter_user\n",
      "-----\n",
      "{'username': 'pushcx', 'is_moderator': False, 'karma': 29313, 'is_admin': False, 'avatar_url': 'https://secure.gravatar.com/avatar/e7be134a6de3d308adf765be1004c450?r=pg&d=identicon&s=100', 'created_at': '2012-08-14T20:25:08.000-05:00', 'about': \"Hi, I'm Peter Bhat Harkins, a programmer and entrepreneur from Chicago. If I've posted or commented about something here or in the chat room, I'd almost certainly love to talk more about it, feel free to email me at my first name @valent.io.\\r\\n\\r\\n* [Barnacl.es](https://barnacl.es): a Lobsters site for bootstrappers\\r\\n* [Revenue Systems](https://revenue.systems): Technical marketing, helping businesses make more money\\r\\n* [Valent](https://valent.io): Semiformal writing and talks about code\\r\\n* [Personal blog](https://push.cx): Mostly techy\\r\\n* [@pushcx](https://twitter.com/pushcx): Toots\\r\\n* [NearbyGamers](http://nearbygamers.com): Make friends, play tabletop games\\r\\n* [TwoFactorAuth](https://www.twofactorauth.io): Rails gem for U2F hardware 2FA\\r\\n* [Well-Sorted Version](http://www.wellsortedversion.com): Art project\\r\\n\\r\\nFrom June 2014 to winter of 2015 I typically posted a dozen stories per day to [help](https://lobste.rs/s/9pm09z/what_is_on_topic_what_is_not/comments/nie0yn#c_nie0yn) the site reach a critical mass of regular visitors. Now that I'm busy working on [Revenue Systems](https://revenue.systems) I submit many fewer.\"}\n",
      "==========\n",
      "tags\n",
      "-----\n",
      "['ruby']\n",
      "==========\n",
      "title\n",
      "-----\n",
      "Result Objects - Errors Without Exceptions\n",
      "==========\n",
      "upvotes\n",
      "-----\n",
      "6\n",
      "==========\n",
      "url\n",
      "-----\n",
      "http://www.rubypigeon.com/posts/result-objects-errors-without-exceptions/\n",
      "==========\n"
     ]
    }
   ],
   "source": [
    "view_data(df1, 5)\n",
    "# look at data, we can identify some works to do\n",
    "#    - expanding data at columns: submitter_user and tags\n",
    "#    - convert date type at: created_at and last_updated"
   ]
  },
  {
   "cell_type": "code",
   "execution_count": 10,
   "metadata": {
    "collapsed": true
   },
   "outputs": [],
   "source": [
    "#if data in dic\n",
    "def expanding_column(data_frame, column_name):\n",
    "    new_df = data_frame[column_name].apply(pd.Series)\n",
    "    inter_selection = set(data_frame.columns).intersection(new_df.columns)\n",
    "    for name in inter_selection:\n",
    "        new_df = new_df.rename(columns = {name : '.'.join((column_name, name))})\n",
    "    data_frame = pd.concat([data_frame.drop([column_name],axis =1),\n",
    "                          new_df], axis = 1)\n",
    "    return data_frame"
   ]
  },
  {
   "cell_type": "code",
   "execution_count": 11,
   "metadata": {
    "collapsed": true
   },
   "outputs": [],
   "source": [
    "# if data in list\n",
    "def expanding_list(data_frame, column_name):\n",
    "    new_df = data_frame[column_name].apply(pd.Series)\n",
    "    list_tags = pd.unique(new_df.values.ravel())\n",
    "    new_df = pd.get_dummies(new_df.apply(pd.Series).stack()).sum(level = 0)\n",
    "    data_frame = pd.concat([data_frame.drop([column_name],axis =1),\n",
    "                      new_df], axis = 1)\n",
    "    return data_frame"
   ]
  },
  {
   "cell_type": "markdown",
   "metadata": {},
   "source": [
    "*read more about df.stack*"
   ]
  },
  {
   "cell_type": "code",
   "execution_count": 12,
   "metadata": {
    "collapsed": true
   },
   "outputs": [],
   "source": [
    "df2 = expanding_list(expanding_column(df1, 'submitter_user'), 'tags')"
   ]
  },
  {
   "cell_type": "code",
   "execution_count": 13,
   "metadata": {},
   "outputs": [
    {
     "data": {
      "text/plain": [
       "{'audio': ['javascript'],\n",
       " 'browsers': ['networking'],\n",
       " 'compilers': ['haskell'],\n",
       " 'debugging': ['java'],\n",
       " 'haskell': ['compilers'],\n",
       " 'java': ['debugging'],\n",
       " 'javascript': ['audio', 'rust'],\n",
       " 'math': ['release'],\n",
       " 'networking': ['browsers'],\n",
       " 'release': ['math'],\n",
       " 'rust': ['javascript'],\n",
       " 'score': ['upvotes'],\n",
       " 'upvotes': ['score']}"
      ]
     },
     "execution_count": 13,
     "metadata": {},
     "output_type": "execute_result"
    }
   ],
   "source": [
    "# find corr\n",
    "import numpy as np\n",
    "\n",
    "def find_big_corr(data_frame, score):\n",
    "    '''If corr value is greater than score we will presume big_corr'''\n",
    "    list_corr = []\n",
    "    for key in data_frame.dtypes.keys():\n",
    "        if data_frame.dtypes.get(key) == 'int64'\\\n",
    "        or data_frame.dtypes.get(key) == 'uint8':\n",
    "            list_corr.append(key)\n",
    "\n",
    "    df_corr = np.abs(data_frame[list_corr].corr())\n",
    "    dic_corr = {}\n",
    "\n",
    "    for i in range(len(list_corr)):\n",
    "        key = df_corr.iloc[i].keys()[i]\n",
    "        dic_corr[key] = []\n",
    "        for name in df_corr.iloc[i].keys():\n",
    "            if df_corr.iloc[i].get(name) > score:\n",
    "                if df_corr.iloc[i].get(name) != 1:\n",
    "                    dic_corr[key].append(name)\n",
    "    final = {k: v for k, v in dic_corr.items() if bool(v)}\n",
    "    return final\n",
    "\n",
    "find_big_corr(df2, 0.7)"
   ]
  },
  {
   "cell_type": "code",
   "execution_count": 14,
   "metadata": {},
   "outputs": [
    {
     "data": {
      "text/plain": [
       "0.81080663996257873"
      ]
     },
     "execution_count": 14,
     "metadata": {},
     "output_type": "execute_result"
    }
   ],
   "source": [
    "#let try it\n",
    "df2['math'].corr(df2['release'])"
   ]
  },
  {
   "cell_type": "markdown",
   "metadata": {
    "collapsed": true
   },
   "source": [
    "> ### Category "
   ]
  },
  {
   "cell_type": "code",
   "execution_count": 15,
   "metadata": {
    "collapsed": true
   },
   "outputs": [],
   "source": [
    "df3 = pd.read_csv('adult.csv', na_values=['#NAME?'])\n",
    "df3.income.value_counts()\n",
    "df3['income'] = [0 if x == '<=50K' else 1 for  x in df3['income']]\n",
    "df3_X = df3.drop('income', 1)\n",
    "df3_y = df3.income"
   ]
  },
  {
   "cell_type": "code",
   "execution_count": 16,
   "metadata": {},
   "outputs": [
    {
     "name": "stdout",
     "output_type": "stream",
     "text": [
      "feature \"workclass\" have 8 class is: {'?', 'Local-gov', 'Federal-gov', 'Private', 'Self-emp-inc', 'Without-pay', 'State-gov', 'Self-emp-not-inc'}(max_vs_total is: 0.687)\n",
      "==========\n",
      "feature \"education\" have 17 class is: {'?', 'HS-grad', 'Doctorate', 'Prof-school', 'Assoc-acdm', 'Masters', '5th-6th', '10th', 'Preschool', '1st-4th', '12th', 'Some-college', '11th', '9th', '7th-8th', 'Assoc-voc', 'Bachelors'}(max_vs_total is: 0.3194)\n",
      "==========\n",
      "feature \"marital_status\" have 7 class is: {'Separated', 'Never-married', 'Divorced', 'Married-AF-spouse', 'Widowed', 'Married-civ-spouse', 'Married-spouse-absent'}(max_vs_total is: 0.454)\n",
      "==========\n",
      "feature \"occupation\" have 15 class is: {'Armed-Forces', 'Handlers-cleaners', 'Prof-specialty', '?', 'Exec-managerial', 'Adm-clerical', 'Machine-op-inspct', 'Protective-serv', 'Priv-house-serv', 'Tech-support', 'Farming-fishing', 'Other-service', 'Sales', 'Craft-repair', 'Transport-moving'}(max_vs_total is: 0.125)\n",
      "==========\n",
      "feature \"relationship\" have 6 class is: {'Other-relative', 'Not-in-family', 'Own-child', 'Wife', 'Husband', 'Unmarried'}(max_vs_total is: 0.4002)\n",
      "==========\n",
      "feature \"race\" have 6 class is: {nan, 'Asian-Pac-Islander', 'Other', 'Amer-Indian-Eskimo', 'White', 'Black'}(max_vs_total is: 0.8490287162162162)\n",
      "==========\n",
      "feature \"sex\" have 3 class is: {nan, 'Female', 'Male'}(max_vs_total is: 0.6727236018574602)\n",
      "==========\n",
      "feature \"native_country\" have 40 class is: {'Puerto-Rico', 'Trinadad&Tobago', 'Greece', 'Japan', 'Mexico', 'China', 'Thailand', 'Poland', 'Cuba', 'Guatemala', 'United-States', 'El-Salvador', 'Jamaica', 'Scotland', 'Laos', 'Iran', 'Nicaragua', 'Italy', 'Haiti', 'Ireland', 'South', 'Germany', 'Portugal', 'Yugoslavia', 'Canada', 'Cambodia', 'Dominican-Republic', 'Peru', '?', 'Hong', 'Vietnam', 'France', 'Outlying-US(Guam-USVI-etc)', 'England', 'Honduras', 'Columbia', 'Taiwan', 'Philippines', 'India', 'Ecuador'}(max_vs_total is: 0.893)\n",
      "==========\n"
     ]
    }
   ],
   "source": [
    "cat_columns = []\n",
    "for column in df3_X.columns:\n",
    "    if df3_X[column].dtypes == 'object':\n",
    "        unique_X = set(df3_X[column])\n",
    "        max_fre = df3_X[column].value_counts().max()\n",
    "        max_vs_total = max_fre / df3_X[column].count()\n",
    "        print('feature \"{}\" have {} class is: {}(max_vs_total is: {})'\\\n",
    "              .format(column, len(unique_X), unique_X, max_vs_total))\n",
    "        print('=' * 10)\n",
    "        cat_columns.append(column)\n",
    "# in feature \"native_country\", we have 40 cats but percent of biggest class is 89% so we need convert it to decrease\n",
    "# number of cats."
   ]
  },
  {
   "cell_type": "code",
   "execution_count": 17,
   "metadata": {},
   "outputs": [
    {
     "data": {
      "text/plain": [
       "United-States                 4465\n",
       "Mexico                         104\n",
       "?                               97\n",
       "Canada                          28\n",
       "Germany                         22\n",
       "Philippines                     22\n",
       "Puerto-Rico                     16\n",
       "El-Salvador                     16\n",
       "England                         16\n",
       "Jamaica                         15\n",
       "China                           15\n",
       "Cuba                            14\n",
       "Dominican-Republic              13\n",
       "Italy                           12\n",
       "India                           12\n",
       "Iran                            11\n",
       "Taiwan                          10\n",
       "Guatemala                       10\n",
       "Vietnam                         10\n",
       "Japan                            9\n",
       "South                            9\n",
       "Poland                           9\n",
       "Portugal                         7\n",
       "Greece                           6\n",
       "Haiti                            6\n",
       "Nicaragua                        5\n",
       "Columbia                         5\n",
       "Ireland                          4\n",
       "Trinadad&Tobago                  4\n",
       "Ecuador                          4\n",
       "Cambodia                         4\n",
       "Peru                             3\n",
       "Outlying-US(Guam-USVI-etc)       3\n",
       "Honduras                         3\n",
       "France                           3\n",
       "Laos                             2\n",
       "Yugoslavia                       2\n",
       "Thailand                         2\n",
       "Hong                             1\n",
       "Scotland                         1\n",
       "Name: native_country, dtype: int64"
      ]
     },
     "execution_count": 17,
     "metadata": {},
     "output_type": "execute_result"
    }
   ],
   "source": [
    "df3_X['native_country'].value_counts()"
   ]
  },
  {
   "cell_type": "code",
   "execution_count": 18,
   "metadata": {
    "collapsed": true
   },
   "outputs": [],
   "source": [
    "df3_X['native_country'] = ['US' if x == 'United-States' else 'others' for x in df3_X['native_country']]"
   ]
  },
  {
   "cell_type": "code",
   "execution_count": 19,
   "metadata": {
    "collapsed": true
   },
   "outputs": [],
   "source": [
    "# build a function to dummy all the categorical variables\n",
    "def dummy_cat_var(df, dummy_list):\n",
    "    for feature in dummy_list:\n",
    "        df_dummy = pd.get_dummies(df[feature], prefix = feature)\n",
    "        df = df.drop(feature, 1)\n",
    "        df = pd.concat([df, df_dummy], axis = 1)\n",
    "    return df"
   ]
  },
  {
   "cell_type": "code",
   "execution_count": 20,
   "metadata": {
    "collapsed": true
   },
   "outputs": [],
   "source": [
    "df3_X = dummy_cat_var(df3_X, cat_columns)\n",
    "#Note:enumerate function to make class_label\n",
    "#Beside this way, we have some method to deal with category feature\n",
    "#Using df.map()\n",
    "#Using LabelEncoder or OneHotEncoder in sklearn"
   ]
  },
  {
   "cell_type": "markdown",
   "metadata": {},
   "source": [
    ">### Missing data"
   ]
  },
  {
   "cell_type": "code",
   "execution_count": 21,
   "metadata": {},
   "outputs": [
    {
     "data": {
      "text/plain": [
       "fnlwgt                 107\n",
       "education_num           57\n",
       "age                     48\n",
       "education_Doctorate      0\n",
       "education_7th-8th        0\n",
       "dtype: int64"
      ]
     },
     "execution_count": 21,
     "metadata": {},
     "output_type": "execute_result"
    }
   ],
   "source": [
    "df3_X.isnull().sum().sort_values(ascending=False).head()"
   ]
  },
  {
   "cell_type": "code",
   "execution_count": 22,
   "metadata": {
    "collapsed": true
   },
   "outputs": [],
   "source": [
    "from sklearn.preprocessing import Imputer\n",
    "\n",
    "imp = Imputer(strategy = 'mean')\n",
    "imp.fit(df3_X)\n",
    "df3_X = pd.DataFrame(data = imp.transform(df3_X), columns = df3_X.columns)\n",
    "# beside we can use drop NA to drops obs cotain NAN.\n",
    "#df.temperature = df.groupby('username').temperature.fillna(\n",
    "#   method='backfill', limit=3)"
   ]
  },
  {
   "cell_type": "code",
   "execution_count": 23,
   "metadata": {},
   "outputs": [
    {
     "data": {
      "text/plain": [
       "native_country_others    0\n",
       "education_Bachelors      0\n",
       "education_5th-6th        0\n",
       "education_7th-8th        0\n",
       "education_9th            0\n",
       "dtype: int64"
      ]
     },
     "execution_count": 23,
     "metadata": {},
     "output_type": "execute_result"
    }
   ],
   "source": [
    "df3_X.isnull().sum().sort_values(ascending=False).head()"
   ]
  },
  {
   "cell_type": "markdown",
   "metadata": {},
   "source": [
    "> ### Outlier"
   ]
  },
  {
   "cell_type": "code",
   "execution_count": 24,
   "metadata": {
    "collapsed": true
   },
   "outputs": [],
   "source": [
    "#turkey outlier\n",
    "def find_outlier_turkey(x):\n",
    "    q1 = np.percentile(x, 25)\n",
    "    q3 = np.percentile(x, 75)\n",
    "    iqr = q3 - q1\n",
    "    floor = q1 - 1.5 * iqr\n",
    "    celling = q3 + 1.5 * iqr\n",
    "    outlier_indices = list(x.index[(x < floor) | (x > celling)])\n",
    "    outlier_values = list(x[outlier_indices])\n",
    "    return outlier_indices, outlier_values"
   ]
  },
  {
   "cell_type": "code",
   "execution_count": 25,
   "metadata": {},
   "outputs": [
    {
     "name": "stdout",
     "output_type": "stream",
     "text": [
      "[ 76.  76.  76.  76.  76.  76.  76.  76.  76.  77.  77.  77.  77.  77.  78.\n",
      "  78.  79.  79.  79.  80.  80.  80.  81.  81.  81.  81.  82.  88.  90.  90.\n",
      "  90.  90.  90.  90.  90.]\n"
     ]
    }
   ],
   "source": [
    "turkey_indices, turkey_values = find_outlier_turkey(df3_X['age'])\n",
    "print(np.sort(turkey_values))"
   ]
  },
  {
   "cell_type": "code",
   "execution_count": 26,
   "metadata": {},
   "outputs": [
    {
     "data": {
      "text/plain": [
       "array([ 76.,  76.,  76.,  76.,  76.,  76.,  76.,  76.,  76.,  77.,  77.,\n",
       "        77.,  77.,  77.,  78.,  78.,  79.,  79.,  79.,  80.,  80.,  80.,\n",
       "        81.,  81.,  81.,  81.,  82.,  88.,  90.,  90.,  90.,  90.,  90.,\n",
       "        90.,  90.])"
      ]
     },
     "execution_count": 26,
     "metadata": {},
     "output_type": "execute_result"
    }
   ],
   "source": [
    "#kde outlier\n",
    "from sklearn.preprocessing import scale\n",
    "from statsmodels.nonparametric.kde import KDEUnivariate\n",
    "\n",
    "X_scaled = scale(list(map(float, df3_X['age'])))\n",
    "kde = KDEUnivariate(X_scaled)\n",
    "kde.fit(bw=\"scott\", fft=True)\n",
    "pred = kde.evaluate(X_scaled)\n",
    "n = sum(pred < 0.02)\n",
    "outlier_ind = np.asarray(pred).argsort()[:n]\n",
    "outlier_value = np.asarray(df3_X['age'])[outlier_ind]\n",
    "np.sort(outlier_value)\n",
    "#argsort will return indices after sorted"
   ]
  },
  {
   "cell_type": "markdown",
   "metadata": {},
   "source": [
    ">### Feature engineer "
   ]
  },
  {
   "cell_type": "code",
   "execution_count": 45,
   "metadata": {},
   "outputs": [
    {
     "name": "stdout",
     "output_type": "stream",
     "text": [
      "shape of df3_X: (5000, 68)\n",
      "shape of df3_X after interactived: (5000, 1737)\n"
     ]
    }
   ],
   "source": [
    "###iteractions among features\n",
    "from sklearn.preprocessing import PolynomialFeatures\n",
    "from itertools import combinations\n",
    "\n",
    "def add_interactions(df):\n",
    "    # Get feature names\n",
    "    combos = list(combinations(list(df.columns), 2))\n",
    "    colnames = list(df.columns) + ['_'.join(x) for x in combos]\n",
    "    \n",
    "    # Find interactions\n",
    "    poly = PolynomialFeatures(interaction_only=True, include_bias=False)\n",
    "    df = poly.fit_transform(df)\n",
    "    df = pd.DataFrame(df)\n",
    "    df.columns = colnames\n",
    "    \n",
    "    # Remove interaction terms with all 0 values            \n",
    "    noint_indicies = [i for i, x in enumerate(list((df == 0).all())) if x]\n",
    "    df = df.drop(df.columns[noint_indicies], axis=1)\n",
    "    \n",
    "    return df\n",
    "\n",
    "df3_X_inter = add_interactions(df3_X)\n",
    "print('shape of df3_X: {}'.format(np.shape(df3_X)))\n",
    "print('shape of df3_X after interactived: {}'.format(np.shape(df3_X_inter)))"
   ]
  },
  {
   "cell_type": "code",
   "execution_count": 46,
   "metadata": {},
   "outputs": [
    {
     "data": {
      "text/html": [
       "<div>\n",
       "<style scoped>\n",
       "    .dataframe tbody tr th:only-of-type {\n",
       "        vertical-align: middle;\n",
       "    }\n",
       "\n",
       "    .dataframe tbody tr th {\n",
       "        vertical-align: top;\n",
       "    }\n",
       "\n",
       "    .dataframe thead th {\n",
       "        text-align: right;\n",
       "    }\n",
       "</style>\n",
       "<table border=\"1\" class=\"dataframe\">\n",
       "  <thead>\n",
       "    <tr style=\"text-align: right;\">\n",
       "      <th></th>\n",
       "      <th>age</th>\n",
       "      <th>fnlwgt</th>\n",
       "      <th>education_num</th>\n",
       "      <th>capital_gain</th>\n",
       "      <th>capital_loss</th>\n",
       "      <th>hours_per_week</th>\n",
       "      <th>workclass_?</th>\n",
       "      <th>workclass_Federal-gov</th>\n",
       "      <th>workclass_Local-gov</th>\n",
       "      <th>workclass_Private</th>\n",
       "      <th>...</th>\n",
       "      <th>race_Other_native_country_US</th>\n",
       "      <th>race_Other_native_country_others</th>\n",
       "      <th>race_White_sex_Female</th>\n",
       "      <th>race_White_sex_Male</th>\n",
       "      <th>race_White_native_country_US</th>\n",
       "      <th>race_White_native_country_others</th>\n",
       "      <th>sex_Female_native_country_US</th>\n",
       "      <th>sex_Female_native_country_others</th>\n",
       "      <th>sex_Male_native_country_US</th>\n",
       "      <th>sex_Male_native_country_others</th>\n",
       "    </tr>\n",
       "  </thead>\n",
       "  <tbody>\n",
       "    <tr>\n",
       "      <th>0</th>\n",
       "      <td>39.0</td>\n",
       "      <td>77516.0</td>\n",
       "      <td>13.0</td>\n",
       "      <td>2174.0</td>\n",
       "      <td>0.0</td>\n",
       "      <td>40.0</td>\n",
       "      <td>0.0</td>\n",
       "      <td>0.0</td>\n",
       "      <td>0.0</td>\n",
       "      <td>0.0</td>\n",
       "      <td>...</td>\n",
       "      <td>0.0</td>\n",
       "      <td>0.0</td>\n",
       "      <td>0.0</td>\n",
       "      <td>1.0</td>\n",
       "      <td>1.0</td>\n",
       "      <td>0.0</td>\n",
       "      <td>0.0</td>\n",
       "      <td>0.0</td>\n",
       "      <td>1.0</td>\n",
       "      <td>0.0</td>\n",
       "    </tr>\n",
       "    <tr>\n",
       "      <th>1</th>\n",
       "      <td>50.0</td>\n",
       "      <td>83311.0</td>\n",
       "      <td>13.0</td>\n",
       "      <td>0.0</td>\n",
       "      <td>0.0</td>\n",
       "      <td>13.0</td>\n",
       "      <td>0.0</td>\n",
       "      <td>0.0</td>\n",
       "      <td>0.0</td>\n",
       "      <td>0.0</td>\n",
       "      <td>...</td>\n",
       "      <td>0.0</td>\n",
       "      <td>0.0</td>\n",
       "      <td>0.0</td>\n",
       "      <td>1.0</td>\n",
       "      <td>1.0</td>\n",
       "      <td>0.0</td>\n",
       "      <td>0.0</td>\n",
       "      <td>0.0</td>\n",
       "      <td>1.0</td>\n",
       "      <td>0.0</td>\n",
       "    </tr>\n",
       "    <tr>\n",
       "      <th>2</th>\n",
       "      <td>38.0</td>\n",
       "      <td>215646.0</td>\n",
       "      <td>9.0</td>\n",
       "      <td>0.0</td>\n",
       "      <td>0.0</td>\n",
       "      <td>40.0</td>\n",
       "      <td>0.0</td>\n",
       "      <td>0.0</td>\n",
       "      <td>0.0</td>\n",
       "      <td>1.0</td>\n",
       "      <td>...</td>\n",
       "      <td>0.0</td>\n",
       "      <td>0.0</td>\n",
       "      <td>0.0</td>\n",
       "      <td>1.0</td>\n",
       "      <td>1.0</td>\n",
       "      <td>0.0</td>\n",
       "      <td>0.0</td>\n",
       "      <td>0.0</td>\n",
       "      <td>1.0</td>\n",
       "      <td>0.0</td>\n",
       "    </tr>\n",
       "    <tr>\n",
       "      <th>3</th>\n",
       "      <td>53.0</td>\n",
       "      <td>234721.0</td>\n",
       "      <td>7.0</td>\n",
       "      <td>0.0</td>\n",
       "      <td>0.0</td>\n",
       "      <td>40.0</td>\n",
       "      <td>0.0</td>\n",
       "      <td>0.0</td>\n",
       "      <td>0.0</td>\n",
       "      <td>1.0</td>\n",
       "      <td>...</td>\n",
       "      <td>0.0</td>\n",
       "      <td>0.0</td>\n",
       "      <td>0.0</td>\n",
       "      <td>0.0</td>\n",
       "      <td>0.0</td>\n",
       "      <td>0.0</td>\n",
       "      <td>0.0</td>\n",
       "      <td>0.0</td>\n",
       "      <td>0.0</td>\n",
       "      <td>0.0</td>\n",
       "    </tr>\n",
       "    <tr>\n",
       "      <th>4</th>\n",
       "      <td>28.0</td>\n",
       "      <td>338409.0</td>\n",
       "      <td>13.0</td>\n",
       "      <td>0.0</td>\n",
       "      <td>0.0</td>\n",
       "      <td>40.0</td>\n",
       "      <td>0.0</td>\n",
       "      <td>0.0</td>\n",
       "      <td>0.0</td>\n",
       "      <td>1.0</td>\n",
       "      <td>...</td>\n",
       "      <td>0.0</td>\n",
       "      <td>0.0</td>\n",
       "      <td>0.0</td>\n",
       "      <td>0.0</td>\n",
       "      <td>0.0</td>\n",
       "      <td>0.0</td>\n",
       "      <td>0.0</td>\n",
       "      <td>1.0</td>\n",
       "      <td>0.0</td>\n",
       "      <td>0.0</td>\n",
       "    </tr>\n",
       "  </tbody>\n",
       "</table>\n",
       "<p>5 rows × 1737 columns</p>\n",
       "</div>"
      ],
      "text/plain": [
       "    age    fnlwgt  education_num  capital_gain  capital_loss  hours_per_week  \\\n",
       "0  39.0   77516.0           13.0        2174.0           0.0            40.0   \n",
       "1  50.0   83311.0           13.0           0.0           0.0            13.0   \n",
       "2  38.0  215646.0            9.0           0.0           0.0            40.0   \n",
       "3  53.0  234721.0            7.0           0.0           0.0            40.0   \n",
       "4  28.0  338409.0           13.0           0.0           0.0            40.0   \n",
       "\n",
       "   workclass_?  workclass_Federal-gov  workclass_Local-gov  workclass_Private  \\\n",
       "0          0.0                    0.0                  0.0                0.0   \n",
       "1          0.0                    0.0                  0.0                0.0   \n",
       "2          0.0                    0.0                  0.0                1.0   \n",
       "3          0.0                    0.0                  0.0                1.0   \n",
       "4          0.0                    0.0                  0.0                1.0   \n",
       "\n",
       "                ...                race_Other_native_country_US  \\\n",
       "0               ...                                         0.0   \n",
       "1               ...                                         0.0   \n",
       "2               ...                                         0.0   \n",
       "3               ...                                         0.0   \n",
       "4               ...                                         0.0   \n",
       "\n",
       "   race_Other_native_country_others  race_White_sex_Female  \\\n",
       "0                               0.0                    0.0   \n",
       "1                               0.0                    0.0   \n",
       "2                               0.0                    0.0   \n",
       "3                               0.0                    0.0   \n",
       "4                               0.0                    0.0   \n",
       "\n",
       "   race_White_sex_Male  race_White_native_country_US  \\\n",
       "0                  1.0                           1.0   \n",
       "1                  1.0                           1.0   \n",
       "2                  1.0                           1.0   \n",
       "3                  0.0                           0.0   \n",
       "4                  0.0                           0.0   \n",
       "\n",
       "   race_White_native_country_others  sex_Female_native_country_US  \\\n",
       "0                               0.0                           0.0   \n",
       "1                               0.0                           0.0   \n",
       "2                               0.0                           0.0   \n",
       "3                               0.0                           0.0   \n",
       "4                               0.0                           0.0   \n",
       "\n",
       "   sex_Female_native_country_others  sex_Male_native_country_US  \\\n",
       "0                               0.0                         1.0   \n",
       "1                               0.0                         1.0   \n",
       "2                               0.0                         1.0   \n",
       "3                               0.0                         0.0   \n",
       "4                               1.0                         0.0   \n",
       "\n",
       "   sex_Male_native_country_others  \n",
       "0                             0.0  \n",
       "1                             0.0  \n",
       "2                             0.0  \n",
       "3                             0.0  \n",
       "4                             0.0  \n",
       "\n",
       "[5 rows x 1737 columns]"
      ]
     },
     "execution_count": 46,
     "metadata": {},
     "output_type": "execute_result"
    }
   ],
   "source": [
    "df3_X_inter.head()"
   ]
  },
  {
   "cell_type": "code",
   "execution_count": 47,
   "metadata": {
    "collapsed": true
   },
   "outputs": [],
   "source": [
    "###Dimensionality reduction using PCA\n",
    "from sklearn.decomposition import PCA\n",
    "\n",
    "pca = PCA(n_components=10)\n",
    "df3_X_pca = pd.DataFrame(pca.fit_transform(df3_X))"
   ]
  },
  {
   "cell_type": "code",
   "execution_count": 48,
   "metadata": {},
   "outputs": [
    {
     "data": {
      "text/html": [
       "<div>\n",
       "<style scoped>\n",
       "    .dataframe tbody tr th:only-of-type {\n",
       "        vertical-align: middle;\n",
       "    }\n",
       "\n",
       "    .dataframe tbody tr th {\n",
       "        vertical-align: top;\n",
       "    }\n",
       "\n",
       "    .dataframe thead th {\n",
       "        text-align: right;\n",
       "    }\n",
       "</style>\n",
       "<table border=\"1\" class=\"dataframe\">\n",
       "  <thead>\n",
       "    <tr style=\"text-align: right;\">\n",
       "      <th></th>\n",
       "      <th>0</th>\n",
       "      <th>1</th>\n",
       "      <th>2</th>\n",
       "      <th>3</th>\n",
       "      <th>4</th>\n",
       "      <th>5</th>\n",
       "      <th>6</th>\n",
       "      <th>7</th>\n",
       "      <th>8</th>\n",
       "      <th>9</th>\n",
       "    </tr>\n",
       "  </thead>\n",
       "  <tbody>\n",
       "    <tr>\n",
       "      <th>0</th>\n",
       "      <td>-113459.191512</td>\n",
       "      <td>1137.639670</td>\n",
       "      <td>-93.338782</td>\n",
       "      <td>-0.783130</td>\n",
       "      <td>-0.323572</td>\n",
       "      <td>-2.870405</td>\n",
       "      <td>0.442205</td>\n",
       "      <td>1.099425</td>\n",
       "      <td>0.095188</td>\n",
       "      <td>-0.350178</td>\n",
       "    </tr>\n",
       "    <tr>\n",
       "      <th>1</th>\n",
       "      <td>-107664.135952</td>\n",
       "      <td>-1036.209912</td>\n",
       "      <td>-97.534955</td>\n",
       "      <td>6.739546</td>\n",
       "      <td>-28.322618</td>\n",
       "      <td>-3.873604</td>\n",
       "      <td>-1.449076</td>\n",
       "      <td>0.081798</td>\n",
       "      <td>0.304278</td>\n",
       "      <td>-0.313051</td>\n",
       "    </tr>\n",
       "    <tr>\n",
       "      <th>2</th>\n",
       "      <td>24670.864089</td>\n",
       "      <td>-1032.824410</td>\n",
       "      <td>-95.312043</td>\n",
       "      <td>-0.043975</td>\n",
       "      <td>-0.165284</td>\n",
       "      <td>1.000684</td>\n",
       "      <td>0.342129</td>\n",
       "      <td>0.462325</td>\n",
       "      <td>-0.890424</td>\n",
       "      <td>-0.428937</td>\n",
       "    </tr>\n",
       "    <tr>\n",
       "      <th>3</th>\n",
       "      <td>43745.863928</td>\n",
       "      <td>-1032.334880</td>\n",
       "      <td>-94.969332</td>\n",
       "      <td>15.003630</td>\n",
       "      <td>-2.353826</td>\n",
       "      <td>2.912199</td>\n",
       "      <td>-0.288711</td>\n",
       "      <td>-0.449719</td>\n",
       "      <td>0.068134</td>\n",
       "      <td>0.461912</td>\n",
       "    </tr>\n",
       "    <tr>\n",
       "      <th>4</th>\n",
       "      <td>147433.864123</td>\n",
       "      <td>-1029.686384</td>\n",
       "      <td>-93.302934</td>\n",
       "      <td>-8.664729</td>\n",
       "      <td>1.274523</td>\n",
       "      <td>-3.304552</td>\n",
       "      <td>0.256331</td>\n",
       "      <td>-1.345653</td>\n",
       "      <td>0.156481</td>\n",
       "      <td>0.438931</td>\n",
       "    </tr>\n",
       "  </tbody>\n",
       "</table>\n",
       "</div>"
      ],
      "text/plain": [
       "               0            1          2          3          4         5  \\\n",
       "0 -113459.191512  1137.639670 -93.338782  -0.783130  -0.323572 -2.870405   \n",
       "1 -107664.135952 -1036.209912 -97.534955   6.739546 -28.322618 -3.873604   \n",
       "2   24670.864089 -1032.824410 -95.312043  -0.043975  -0.165284  1.000684   \n",
       "3   43745.863928 -1032.334880 -94.969332  15.003630  -2.353826  2.912199   \n",
       "4  147433.864123 -1029.686384 -93.302934  -8.664729   1.274523 -3.304552   \n",
       "\n",
       "          6         7         8         9  \n",
       "0  0.442205  1.099425  0.095188 -0.350178  \n",
       "1 -1.449076  0.081798  0.304278 -0.313051  \n",
       "2  0.342129  0.462325 -0.890424 -0.428937  \n",
       "3 -0.288711 -0.449719  0.068134  0.461912  \n",
       "4  0.256331 -1.345653  0.156481  0.438931  "
      ]
     },
     "execution_count": 48,
     "metadata": {},
     "output_type": "execute_result"
    }
   ],
   "source": [
    "df3_X_pca.head()"
   ]
  },
  {
   "cell_type": "markdown",
   "metadata": {},
   "source": [
    "\n",
    "- Use cases for modeling:\n",
    "    - One of the most common dimensionality reduction techniques\n",
    "    - Use if there are too many features or if observation/feature ratio is poor\n",
    "    - Also, potentially good option if there are a lot of highly correlated variables in your dataset"
   ]
  },
  {
   "cell_type": "markdown",
   "metadata": {},
   "source": [
    ">### Feature selection (filter | wrapper)"
   ]
  },
  {
   "cell_type": "code",
   "execution_count": 50,
   "metadata": {},
   "outputs": [
    {
     "name": "stderr",
     "output_type": "stream",
     "text": [
      "/home/mmr/.local/lib/python3.5/site-packages/sklearn/model_selection/_split.py:2026: FutureWarning: From version 0.21, test_size will always complement train_size unless both are specified.\n",
      "  FutureWarning)\n"
     ]
    }
   ],
   "source": [
    "df3_X_train, df3_X_test, df3_y_train, df3_y_test = train_test_split(df3_X_inter, df3_y,\n",
    "                                                                    train_size = 0.7, random_state = 1)"
   ]
  },
  {
   "cell_type": "code",
   "execution_count": 52,
   "metadata": {},
   "outputs": [
    {
     "name": "stdout",
     "output_type": "stream",
     "text": [
      "(5000, 68) (5000, 1737) (3500, 1737) (1500, 1737)\n"
     ]
    }
   ],
   "source": [
    "print(np.shape(df3_X),np.shape(df3_X_inter), np.shape(df3_X_train), np.shape(df3_X_test))"
   ]
  },
  {
   "cell_type": "code",
   "execution_count": 53,
   "metadata": {
    "collapsed": true
   },
   "outputs": [],
   "source": [
    "import sklearn.feature_selection\n",
    "import sklearn.feature_extraction"
   ]
  },
  {
   "cell_type": "code",
   "execution_count": 59,
   "metadata": {},
   "outputs": [
    {
     "name": "stderr",
     "output_type": "stream",
     "text": [
      "/home/mmr/.local/lib/python3.5/site-packages/sklearn/feature_selection/univariate_selection.py:113: UserWarning: Features [ 350  361  367  458  482  494  535  538  552  625  626  654  663  673  718\n",
      "  750  753  782  812  815  835  857  866  875  879  893  903  985  998 1001\n",
      " 1004 1012 1014 1071 1074 1118 1128 1209 1210 1212 1248 1263 1311 1313 1314\n",
      " 1316 1318 1329 1353 1362 1370 1408 1444 1526 1527 1542 1581 1609 1612 1704] are constant.\n",
      "  UserWarning)\n",
      "/home/mmr/.local/lib/python3.5/site-packages/sklearn/feature_selection/univariate_selection.py:114: RuntimeWarning: invalid value encountered in true_divide\n",
      "  f = msb / msw\n"
     ]
    },
    {
     "data": {
      "text/plain": [
       "['marital_status_Married-civ-spouse',\n",
       " 'marital_status_Never-married',\n",
       " 'relationship_Husband',\n",
       " 'age_education_num',\n",
       " 'age_hours_per_week',\n",
       " 'age_marital_status_Married-civ-spouse',\n",
       " 'age_relationship_Husband',\n",
       " 'fnlwgt_marital_status_Married-civ-spouse',\n",
       " 'education_num_hours_per_week',\n",
       " 'education_num_marital_status_Married-civ-spouse',\n",
       " 'education_num_relationship_Husband',\n",
       " 'hours_per_week_marital_status_Married-civ-spouse',\n",
       " 'hours_per_week_relationship_Husband',\n",
       " 'marital_status_Married-civ-spouse_relationship_Husband',\n",
       " 'marital_status_Married-civ-spouse_race_White',\n",
       " 'marital_status_Married-civ-spouse_sex_Male',\n",
       " 'marital_status_Married-civ-spouse_native_country_US',\n",
       " 'relationship_Husband_race_White',\n",
       " 'relationship_Husband_sex_Male',\n",
       " 'relationship_Husband_native_country_US']"
      ]
     },
     "execution_count": 59,
     "metadata": {},
     "output_type": "execute_result"
    }
   ],
   "source": [
    "selected = sklearn.feature_selection.SelectKBest(k = 20).fit(df3_X_train, df3_y_train)\n",
    "indices_selected = selected.get_support(indices = True)\n",
    "columns_selected = [df3_X_train.columns[i] for i in indices_selected]\n",
    "columns_selected"
   ]
  },
  {
   "cell_type": "code",
   "execution_count": 61,
   "metadata": {},
   "outputs": [
    {
     "data": {
      "text/html": [
       "<div>\n",
       "<style scoped>\n",
       "    .dataframe tbody tr th:only-of-type {\n",
       "        vertical-align: middle;\n",
       "    }\n",
       "\n",
       "    .dataframe tbody tr th {\n",
       "        vertical-align: top;\n",
       "    }\n",
       "\n",
       "    .dataframe thead th {\n",
       "        text-align: right;\n",
       "    }\n",
       "</style>\n",
       "<table border=\"1\" class=\"dataframe\">\n",
       "  <thead>\n",
       "    <tr style=\"text-align: right;\">\n",
       "      <th></th>\n",
       "      <th>marital_status_Married-civ-spouse</th>\n",
       "      <th>marital_status_Never-married</th>\n",
       "      <th>relationship_Husband</th>\n",
       "      <th>age_education_num</th>\n",
       "      <th>age_hours_per_week</th>\n",
       "      <th>age_marital_status_Married-civ-spouse</th>\n",
       "      <th>age_relationship_Husband</th>\n",
       "      <th>fnlwgt_marital_status_Married-civ-spouse</th>\n",
       "      <th>education_num_hours_per_week</th>\n",
       "      <th>education_num_marital_status_Married-civ-spouse</th>\n",
       "      <th>education_num_relationship_Husband</th>\n",
       "      <th>hours_per_week_marital_status_Married-civ-spouse</th>\n",
       "      <th>hours_per_week_relationship_Husband</th>\n",
       "      <th>marital_status_Married-civ-spouse_relationship_Husband</th>\n",
       "      <th>marital_status_Married-civ-spouse_race_White</th>\n",
       "      <th>marital_status_Married-civ-spouse_sex_Male</th>\n",
       "      <th>marital_status_Married-civ-spouse_native_country_US</th>\n",
       "      <th>relationship_Husband_race_White</th>\n",
       "      <th>relationship_Husband_sex_Male</th>\n",
       "      <th>relationship_Husband_native_country_US</th>\n",
       "    </tr>\n",
       "  </thead>\n",
       "  <tbody>\n",
       "    <tr>\n",
       "      <th>1334</th>\n",
       "      <td>1.0</td>\n",
       "      <td>0.0</td>\n",
       "      <td>1.0</td>\n",
       "      <td>561.0</td>\n",
       "      <td>2040.0</td>\n",
       "      <td>51.0</td>\n",
       "      <td>51.0</td>\n",
       "      <td>146767.0</td>\n",
       "      <td>440.0</td>\n",
       "      <td>11.0</td>\n",
       "      <td>11.0</td>\n",
       "      <td>40.0</td>\n",
       "      <td>40.0</td>\n",
       "      <td>1.0</td>\n",
       "      <td>1.0</td>\n",
       "      <td>1.0</td>\n",
       "      <td>1.0</td>\n",
       "      <td>1.0</td>\n",
       "      <td>1.0</td>\n",
       "      <td>1.0</td>\n",
       "    </tr>\n",
       "    <tr>\n",
       "      <th>4768</th>\n",
       "      <td>1.0</td>\n",
       "      <td>0.0</td>\n",
       "      <td>1.0</td>\n",
       "      <td>560.0</td>\n",
       "      <td>1600.0</td>\n",
       "      <td>40.0</td>\n",
       "      <td>40.0</td>\n",
       "      <td>298635.0</td>\n",
       "      <td>560.0</td>\n",
       "      <td>14.0</td>\n",
       "      <td>14.0</td>\n",
       "      <td>40.0</td>\n",
       "      <td>40.0</td>\n",
       "      <td>1.0</td>\n",
       "      <td>0.0</td>\n",
       "      <td>1.0</td>\n",
       "      <td>0.0</td>\n",
       "      <td>0.0</td>\n",
       "      <td>1.0</td>\n",
       "      <td>0.0</td>\n",
       "    </tr>\n",
       "    <tr>\n",
       "      <th>65</th>\n",
       "      <td>1.0</td>\n",
       "      <td>0.0</td>\n",
       "      <td>1.0</td>\n",
       "      <td>324.0</td>\n",
       "      <td>1440.0</td>\n",
       "      <td>36.0</td>\n",
       "      <td>36.0</td>\n",
       "      <td>155537.0</td>\n",
       "      <td>360.0</td>\n",
       "      <td>9.0</td>\n",
       "      <td>9.0</td>\n",
       "      <td>40.0</td>\n",
       "      <td>40.0</td>\n",
       "      <td>1.0</td>\n",
       "      <td>1.0</td>\n",
       "      <td>1.0</td>\n",
       "      <td>1.0</td>\n",
       "      <td>1.0</td>\n",
       "      <td>1.0</td>\n",
       "      <td>1.0</td>\n",
       "    </tr>\n",
       "    <tr>\n",
       "      <th>177</th>\n",
       "      <td>0.0</td>\n",
       "      <td>1.0</td>\n",
       "      <td>0.0</td>\n",
       "      <td>306.0</td>\n",
       "      <td>1360.0</td>\n",
       "      <td>0.0</td>\n",
       "      <td>0.0</td>\n",
       "      <td>0.0</td>\n",
       "      <td>360.0</td>\n",
       "      <td>0.0</td>\n",
       "      <td>0.0</td>\n",
       "      <td>0.0</td>\n",
       "      <td>0.0</td>\n",
       "      <td>0.0</td>\n",
       "      <td>0.0</td>\n",
       "      <td>0.0</td>\n",
       "      <td>0.0</td>\n",
       "      <td>0.0</td>\n",
       "      <td>0.0</td>\n",
       "      <td>0.0</td>\n",
       "    </tr>\n",
       "    <tr>\n",
       "      <th>4489</th>\n",
       "      <td>0.0</td>\n",
       "      <td>0.0</td>\n",
       "      <td>0.0</td>\n",
       "      <td>336.0</td>\n",
       "      <td>1120.0</td>\n",
       "      <td>0.0</td>\n",
       "      <td>0.0</td>\n",
       "      <td>0.0</td>\n",
       "      <td>480.0</td>\n",
       "      <td>0.0</td>\n",
       "      <td>0.0</td>\n",
       "      <td>0.0</td>\n",
       "      <td>0.0</td>\n",
       "      <td>0.0</td>\n",
       "      <td>0.0</td>\n",
       "      <td>0.0</td>\n",
       "      <td>0.0</td>\n",
       "      <td>0.0</td>\n",
       "      <td>0.0</td>\n",
       "      <td>0.0</td>\n",
       "    </tr>\n",
       "  </tbody>\n",
       "</table>\n",
       "</div>"
      ],
      "text/plain": [
       "      marital_status_Married-civ-spouse  marital_status_Never-married  \\\n",
       "1334                                1.0                           0.0   \n",
       "4768                                1.0                           0.0   \n",
       "65                                  1.0                           0.0   \n",
       "177                                 0.0                           1.0   \n",
       "4489                                0.0                           0.0   \n",
       "\n",
       "      relationship_Husband  age_education_num  age_hours_per_week  \\\n",
       "1334                   1.0              561.0              2040.0   \n",
       "4768                   1.0              560.0              1600.0   \n",
       "65                     1.0              324.0              1440.0   \n",
       "177                    0.0              306.0              1360.0   \n",
       "4489                   0.0              336.0              1120.0   \n",
       "\n",
       "      age_marital_status_Married-civ-spouse  age_relationship_Husband  \\\n",
       "1334                                   51.0                      51.0   \n",
       "4768                                   40.0                      40.0   \n",
       "65                                     36.0                      36.0   \n",
       "177                                     0.0                       0.0   \n",
       "4489                                    0.0                       0.0   \n",
       "\n",
       "      fnlwgt_marital_status_Married-civ-spouse  education_num_hours_per_week  \\\n",
       "1334                                  146767.0                         440.0   \n",
       "4768                                  298635.0                         560.0   \n",
       "65                                    155537.0                         360.0   \n",
       "177                                        0.0                         360.0   \n",
       "4489                                       0.0                         480.0   \n",
       "\n",
       "      education_num_marital_status_Married-civ-spouse  \\\n",
       "1334                                             11.0   \n",
       "4768                                             14.0   \n",
       "65                                                9.0   \n",
       "177                                               0.0   \n",
       "4489                                              0.0   \n",
       "\n",
       "      education_num_relationship_Husband  \\\n",
       "1334                                11.0   \n",
       "4768                                14.0   \n",
       "65                                   9.0   \n",
       "177                                  0.0   \n",
       "4489                                 0.0   \n",
       "\n",
       "      hours_per_week_marital_status_Married-civ-spouse  \\\n",
       "1334                                              40.0   \n",
       "4768                                              40.0   \n",
       "65                                                40.0   \n",
       "177                                                0.0   \n",
       "4489                                               0.0   \n",
       "\n",
       "      hours_per_week_relationship_Husband  \\\n",
       "1334                                 40.0   \n",
       "4768                                 40.0   \n",
       "65                                   40.0   \n",
       "177                                   0.0   \n",
       "4489                                  0.0   \n",
       "\n",
       "      marital_status_Married-civ-spouse_relationship_Husband  \\\n",
       "1334                                                1.0        \n",
       "4768                                                1.0        \n",
       "65                                                  1.0        \n",
       "177                                                 0.0        \n",
       "4489                                                0.0        \n",
       "\n",
       "      marital_status_Married-civ-spouse_race_White  \\\n",
       "1334                                           1.0   \n",
       "4768                                           0.0   \n",
       "65                                             1.0   \n",
       "177                                            0.0   \n",
       "4489                                           0.0   \n",
       "\n",
       "      marital_status_Married-civ-spouse_sex_Male  \\\n",
       "1334                                         1.0   \n",
       "4768                                         1.0   \n",
       "65                                           1.0   \n",
       "177                                          0.0   \n",
       "4489                                         0.0   \n",
       "\n",
       "      marital_status_Married-civ-spouse_native_country_US  \\\n",
       "1334                                                1.0     \n",
       "4768                                                0.0     \n",
       "65                                                  1.0     \n",
       "177                                                 0.0     \n",
       "4489                                                0.0     \n",
       "\n",
       "      relationship_Husband_race_White  relationship_Husband_sex_Male  \\\n",
       "1334                              1.0                            1.0   \n",
       "4768                              0.0                            1.0   \n",
       "65                                1.0                            1.0   \n",
       "177                               0.0                            0.0   \n",
       "4489                              0.0                            0.0   \n",
       "\n",
       "      relationship_Husband_native_country_US  \n",
       "1334                                     1.0  \n",
       "4768                                     0.0  \n",
       "65                                       1.0  \n",
       "177                                      0.0  \n",
       "4489                                     0.0  "
      ]
     },
     "execution_count": 61,
     "metadata": {},
     "output_type": "execute_result"
    }
   ],
   "source": [
    "df3_X_train = df3_X_train[columns_selected]\n",
    "df3_X_test = df3_X_test[columns_selected]\n",
    "df3_X_train.head()"
   ]
  },
  {
   "cell_type": "markdown",
   "metadata": {},
   "source": [
    ">### More Information"
   ]
  },
  {
   "cell_type": "markdown",
   "metadata": {},
   "source": [
    "- data validation\n",
    "- data visualization\n",
    "- data Extraction"
   ]
  }
 ],
 "metadata": {
  "kernelspec": {
   "display_name": "practice",
   "language": "python",
   "name": "practice"
  },
  "language_info": {
   "codemirror_mode": {
    "name": "ipython",
    "version": 3
   },
   "file_extension": ".py",
   "mimetype": "text/x-python",
   "name": "python",
   "nbconvert_exporter": "python",
   "pygments_lexer": "ipython3",
   "version": "3.5.4"
  }
 },
 "nbformat": 4,
 "nbformat_minor": 2
}
