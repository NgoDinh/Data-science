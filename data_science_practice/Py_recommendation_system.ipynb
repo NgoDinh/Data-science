{
 "cells": [
  {
   "cell_type": "markdown",
   "metadata": {},
   "source": [
    "## Recommendation system:\n",
    "$$ Utility Matrix \\mapsto Model \\mapsto Suggestion $$\n",
    "- Model:\n",
    ">- Content-based systems\n",
    ">- Collaborative filtering"
   ]
  },
  {
   "cell_type": "markdown",
   "metadata": {},
   "source": [
    "### Content-based systems\n",
    "$$ Utility Matrix \\mapsto find~w_m(y_mn = w_mx_n+b_n) \\mapsto Suggestion(w_m) $$\n",
    "- w: is weight of user(m)\n",
    "- x: vector information of movie(n)\n",
    "- y: rating of user(m) for movie(n)"
   ]
  },
  {
   "cell_type": "code",
   "execution_count": 161,
   "metadata": {},
   "outputs": [],
   "source": [
    "# Get information about movie\n",
    "#----------------------------------------------#\n",
    "\n",
    "import pandas as pd\n",
    "\n",
    "item_cols = ['movie id', 'movie title' ,'release date','video release date', 'IMDb URL', 'unknown', 'Action', 'Adventure',\n",
    " 'Animation', 'Children\\'s', 'Comedy', 'Crime', 'Documentary', 'Drama', 'Fantasy',\n",
    " 'Film-Noir', 'Horror', 'Musical', 'Mystery', 'Romance', 'Sci-Fi', 'Thriller', 'War', 'Western']\n",
    "\n",
    "items = pd.read_csv('./data/u.item', sep='|', names=item_cols, encoding='latin-1')"
   ]
  },
  {
   "cell_type": "code",
   "execution_count": 162,
   "metadata": {},
   "outputs": [],
   "source": [
    "items = items.as_matrix()[:, -19:]"
   ]
  },
  {
   "cell_type": "code",
   "execution_count": 163,
   "metadata": {},
   "outputs": [],
   "source": [
    "from sklearn.feature_extraction.text import TfidfTransformer\n",
    "\n",
    "transformer = TfidfTransformer(smooth_idf=True, norm ='l2')\n",
    "tfidf = transformer.fit_transform(items.tolist()).toarray()"
   ]
  },
  {
   "cell_type": "code",
   "execution_count": 164,
   "metadata": {},
   "outputs": [],
   "source": [
    "# create rating score by movie and user\n",
    "#----------------------------------------------#\n",
    "\n",
    "r_cols = ['user_id', 'movie_id', 'rating', 'unix_timestamp']\n",
    "\n",
    "ratings_base = pd.read_csv('./data/ua.base', sep='\\t', names=r_cols, encoding='latin-1')\n",
    "ratings = ratings_base.pivot_table(index=['user_id'], values=['rating'], columns='movie_id')"
   ]
  },
  {
   "cell_type": "code",
   "execution_count": 165,
   "metadata": {},
   "outputs": [],
   "source": [
    "def get_movie_list(df, user_id):\n",
    "    user_m = df.loc[[user_id]].dropna(axis=1)\n",
    "    movie_list = []\n",
    "    for movie in user_m.columns.values:\n",
    "        movie_list.append(movie[1])\n",
    "    final_list=[x - 1 for x in movie_list]\n",
    "    return final_list"
   ]
  },
  {
   "cell_type": "code",
   "execution_count": 176,
   "metadata": {},
   "outputs": [],
   "source": [
    "# find matrix W\n",
    "#----------------------------------------------#\n",
    "\n",
    "from sklearn.linear_model import Ridge\n",
    "\n",
    "\n",
    "d = tfidf.shape[1]\n",
    "n_users = np.shape(ratings)[0]\n",
    "W = np.zeros((d, n_users))\n",
    "b = np.zeros((1, n_users))\n",
    "for i in range(n_users):\n",
    "    user_id = i + 1\n",
    "    movie_list = get_movie_list(ratings, user_id)\n",
    "    X = tfidf[movie_list,:]\n",
    "    y = user_m = ratings.loc[[user_id]].dropna(axis=1).values[0]\n",
    "    rdg = Ridge(alpha=0.01, fit_intercept  = True)\n",
    "    rdg.fit(X, y)\n",
    "    W[:, i] = rdg.coef_\n",
    "    b[0, i] = rdg.intercept_"
   ]
  }
 ],
 "metadata": {
  "kernelspec": {
   "display_name": "practice",
   "language": "python",
   "name": "practice"
  },
  "language_info": {
   "codemirror_mode": {
    "name": "ipython",
    "version": 3
   },
   "file_extension": ".py",
   "mimetype": "text/x-python",
   "name": "python",
   "nbconvert_exporter": "python",
   "pygments_lexer": "ipython3",
   "version": "3.5.4"
  }
 },
 "nbformat": 4,
 "nbformat_minor": 2
}
