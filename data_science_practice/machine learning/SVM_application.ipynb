{
 "cells": [
  {
   "cell_type": "markdown",
   "metadata": {},
   "source": [
    "# What is SVM\n",
    "We plot each data item as a point in n-dimensional space (where n is number of features you have) with the value of each feature being the value of a particular coordinate. Then, we perform classification by finding the hyper-plane that differentiate the two classes very well\n",
    "- process: original sample -(kernel function)-> feature space --> find hyperplanes -->maximize the margin around the separating --> best hyperplane\n",
    "\n",
    "### parameters:\n",
    "- Support vector: closet point to hyperplane\n",
    "- Margin: distance from support vector to hyperplane\n",
    "- Kernel function: The process of rearranging the objects for optimal separation. It help us mapping original sample to feature space of a higher dimension\n",
    "- slack variables: An additional set of coefficients are introduced that give the margin wiggle room in each dimension.  These coefficients are sometimes called slack variables\n",
    "\n",
    "###  Soft Margin Classifier\n",
    "### Kernel function:\n",
    "-  Linear Kernel SVM\n",
    "-  Polynomial Kernel SVM\n",
    "-  Radial Kernel SVM\n",
    "\n",
    "### Preparing Data For SVM\n",
    "- Numerical Inputs: SVM assumes that your inputs are numeric.  If you have categorical inputs you may need to covert them to binary dummy variables (one variable for each category).\n",
    "- Binary Classification: Basic SVM as described in this chapter is intended for binary(two-class) classification problems.  Although, extensions have been developed for regression and multiclass classification.\n",
    "\n",
    "# Related knowledge\n",
    "\n",
    "### Strongth and weakness\n",
    "\n",
    "### What type of problem can solve by SVM\n",
    "- classification and regression analysis.\n",
    "\n",
    "### Problem\n",
    "- over fit\n",
    "\n",
    "### Learn it later\n",
    "- Heaviside step function,\n",
    "- quadratic programming problem\n",
    "- linear discriminant analysis, quadratic discriminant analysis and a neural network.\n",
    "- sub-gradient descen\n",
    "- nonparametric\n",
    "- sequential minimal  optimization\n",
    "- Lagrange multipliers\n",
    "# Reference\n",
    "https://www.analyticsvidhya.com/blog/2017/09/understaing-support-vector-machine-example-code/"
   ]
  },
  {
   "cell_type": "code",
   "execution_count": null,
   "metadata": {},
   "outputs": [],
   "source": []
  }
 ],
 "metadata": {
  "kernelspec": {
   "display_name": "Python 3",
   "language": "python",
   "name": "python3"
  },
  "language_info": {
   "codemirror_mode": {
    "name": "ipython",
    "version": 3
   },
   "file_extension": ".py",
   "mimetype": "text/x-python",
   "name": "python",
   "nbconvert_exporter": "python",
   "pygments_lexer": "ipython3",
   "version": "3.5.2"
  }
 },
 "nbformat": 4,
 "nbformat_minor": 2
}
