{
 "cells": [
  {
   "cell_type": "markdown",
   "metadata": {},
   "source": [
    "projection and Manifold Learning"
   ]
  },
  {
   "cell_type": "markdown",
   "metadata": {},
   "source": [
    "> - [wiki](https://en.wikipedia.org/wiki/Random_projection)"
   ]
  },
  {
   "cell_type": "markdown",
   "metadata": {},
   "source": [
    "### Projection\n",
    "Which states that if points in a vector space are of sufficiently high dimension, then they may be projected into a suitable lower-dimensional space in a way which approximately preserves the distances between the points.\n",
    "> - The original d-dimensional data is projected to a k-dimensional (k << d) subspace $$ X_{k.N}=R_{k.d}.X_{d.N} $$\n",
    "> - How to choose R: "
   ]
  },
  {
   "cell_type": "markdown",
   "metadata": {},
   "source": [
    "$$ m \\ge \\frac{8.log(k)}{ε^2} $$"
   ]
  },
  {
   "cell_type": "markdown",
   "metadata": {},
   "source": [
    "SVD???\n",
    "$$ u.\\sum .V^T$$\n",
    "- duong cheo: cac phan tu co dang aii, ma tran don vi, aii =1 con lai bang 0, ma tran duong cheo ma moi phan tu nam tren duong cheo khac 0, con lai bang o\n",
    "- ma tran chuyen vi A^t la ma tran co cac dong cua A^T la cac cot cua A, giu nguyen thu tu\n",
    "- ma tran truc giao A^t.A=I(i la ma tran don vi)\n",
    "- https://nkvtruong.wordpress.com/2011/10/01/tri-rieng-va-vector-rieng-trong-thong-ke/\n",
    "- gia tri tuyet doi cua dinh thuc\n",
    "- Định thức, trong đại số tuyến tính, là một hàm cho mỗi ma trận vuông A, tương ứng với số vô hướng, ký hiệu là det(A). Ý nghĩa hình học của định thức là tỷ lệ xích cho thể tích khi A được coi là một biến đổi tuyến tính. Định thức được sử dụng để giải (và biện luận) các hệ phương trình đại số tuyến tính.\n",
    "-Từ đây ta có thể suy luận như sau: trong một ma trận vuông, các phần tử nằm trên đường chéo chứa thông tin mô tả thể tích không gian hình hộp tạo bởi các vector của ma trận. Tổng giá trị các phần tử này sẽ phân bố cho các trị riêng, độ lớn của các trị riêng sẽ cho ta biết độ lớn của không gian hình hộp theo hướng của vector riêng tương ứng. Hay nói cách khác, phân bố của dữ liệu mô tả bởi ma trận theo hướng các vector riêng sẽ tỷ lệ với độ lớn của trị riêng tương ứng của nó. Cái này ta có thể thấy rõ qua một số ứng dụng khi xử lý số liệu thống kê như sau:\n"
   ]
  },
  {
   "cell_type": "code",
   "execution_count": 6,
   "metadata": {},
   "outputs": [],
   "source": [
    "import numpy as np\n",
    "\n",
    "data = np.array([[1,2,3], [4,5,6], [7,8,9]])"
   ]
  },
  {
   "cell_type": "code",
   "execution_count": 7,
   "metadata": {},
   "outputs": [
    {
     "data": {
      "text/plain": [
       "array([[1, 2, 3],\n",
       "       [4, 5, 6],\n",
       "       [7, 8, 9]])"
      ]
     },
     "execution_count": 7,
     "metadata": {},
     "output_type": "execute_result"
    }
   ],
   "source": [
    "data"
   ]
  },
  {
   "cell_type": "code",
   "execution_count": 8,
   "metadata": {},
   "outputs": [],
   "source": [
    "data_new = data - data.mean(axis = 0)"
   ]
  },
  {
   "cell_type": "code",
   "execution_count": 9,
   "metadata": {},
   "outputs": [
    {
     "data": {
      "text/plain": [
       "array([[-3., -3., -3.],\n",
       "       [ 0.,  0.,  0.],\n",
       "       [ 3.,  3.,  3.]])"
      ]
     },
     "execution_count": 9,
     "metadata": {},
     "output_type": "execute_result"
    }
   ],
   "source": [
    "data_new"
   ]
  },
  {
   "cell_type": "code",
   "execution_count": 11,
   "metadata": {},
   "outputs": [],
   "source": [
    "U, s, V = np.linalg.svd(data_new)"
   ]
  },
  {
   "cell_type": "code",
   "execution_count": 12,
   "metadata": {},
   "outputs": [
    {
     "data": {
      "text/plain": [
       "array([[-0.70710678,  0.70710678,  0.        ],\n",
       "       [ 0.        ,  0.        ,  1.        ],\n",
       "       [ 0.70710678,  0.70710678,  0.        ]])"
      ]
     },
     "execution_count": 12,
     "metadata": {},
     "output_type": "execute_result"
    }
   ],
   "source": [
    "U"
   ]
  },
  {
   "cell_type": "code",
   "execution_count": 13,
   "metadata": {},
   "outputs": [
    {
     "data": {
      "text/plain": [
       "array([ 7.34846923,  0.        ,  0.        ])"
      ]
     },
     "execution_count": 13,
     "metadata": {},
     "output_type": "execute_result"
    }
   ],
   "source": [
    "s"
   ]
  },
  {
   "cell_type": "code",
   "execution_count": 14,
   "metadata": {},
   "outputs": [
    {
     "data": {
      "text/plain": [
       "array([[ 0.57735027,  0.57735027,  0.57735027],\n",
       "       [ 0.        , -0.70710678,  0.70710678],\n",
       "       [ 0.81649658, -0.40824829, -0.40824829]])"
      ]
     },
     "execution_count": 14,
     "metadata": {},
     "output_type": "execute_result"
    }
   ],
   "source": [
    "V"
   ]
  },
  {
   "cell_type": "code",
   "execution_count": 15,
   "metadata": {},
   "outputs": [
    {
     "data": {
      "text/plain": [
       "\u001b[0;31mSignature:\u001b[0m \u001b[0mnp\u001b[0m\u001b[0;34m.\u001b[0m\u001b[0mlinalg\u001b[0m\u001b[0;34m.\u001b[0m\u001b[0msvd\u001b[0m\u001b[0;34m(\u001b[0m\u001b[0ma\u001b[0m\u001b[0;34m,\u001b[0m \u001b[0mfull_matrices\u001b[0m\u001b[0;34m=\u001b[0m\u001b[0;36m1\u001b[0m\u001b[0;34m,\u001b[0m \u001b[0mcompute_uv\u001b[0m\u001b[0;34m=\u001b[0m\u001b[0;36m1\u001b[0m\u001b[0;34m)\u001b[0m\u001b[0;34m\u001b[0m\u001b[0m\n",
       "\u001b[0;31mDocstring:\u001b[0m\n",
       "Singular Value Decomposition.\n",
       "\n",
       "Factors the matrix `a` as ``u * np.diag(s) * v``, where `u` and `v`\n",
       "are unitary and `s` is a 1-d array of `a`'s singular values.\n",
       "\n",
       "Parameters\n",
       "----------\n",
       "a : (..., M, N) array_like\n",
       "    A real or complex matrix of shape (`M`, `N`) .\n",
       "full_matrices : bool, optional\n",
       "    If True (default), `u` and `v` have the shapes (`M`, `M`) and\n",
       "    (`N`, `N`), respectively.  Otherwise, the shapes are (`M`, `K`)\n",
       "    and (`K`, `N`), respectively, where `K` = min(`M`, `N`).\n",
       "compute_uv : bool, optional\n",
       "    Whether or not to compute `u` and `v` in addition to `s`.  True\n",
       "    by default.\n",
       "\n",
       "Returns\n",
       "-------\n",
       "u : { (..., M, M), (..., M, K) } array\n",
       "    Unitary matrices. The actual shape depends on the value of\n",
       "    ``full_matrices``. Only returned when ``compute_uv`` is True.\n",
       "s : (..., K) array\n",
       "    The singular values for every matrix, sorted in descending order.\n",
       "v : { (..., N, N), (..., K, N) } array\n",
       "    Unitary matrices. The actual shape depends on the value of\n",
       "    ``full_matrices``. Only returned when ``compute_uv`` is True.\n",
       "\n",
       "Raises\n",
       "------\n",
       "LinAlgError\n",
       "    If SVD computation does not converge.\n",
       "\n",
       "Notes\n",
       "-----\n",
       "\n",
       ".. versionadded:: 1.8.0\n",
       "\n",
       "Broadcasting rules apply, see the `numpy.linalg` documentation for\n",
       "details.\n",
       "\n",
       "The decomposition is performed using LAPACK routine _gesdd\n",
       "\n",
       "The SVD is commonly written as ``a = U S V.H``.  The `v` returned\n",
       "by this function is ``V.H`` and ``u = U``.\n",
       "\n",
       "If ``U`` is a unitary matrix, it means that it\n",
       "satisfies ``U.H = inv(U)``.\n",
       "\n",
       "The rows of `v` are the eigenvectors of ``a.H a``. The columns\n",
       "of `u` are the eigenvectors of ``a a.H``.  For row ``i`` in\n",
       "`v` and column ``i`` in `u`, the corresponding eigenvalue is\n",
       "``s[i]**2``.\n",
       "\n",
       "If `a` is a `matrix` object (as opposed to an `ndarray`), then so\n",
       "are all the return values.\n",
       "\n",
       "Examples\n",
       "--------\n",
       ">>> a = np.random.randn(9, 6) + 1j*np.random.randn(9, 6)\n",
       "\n",
       "Reconstruction based on full SVD:\n",
       "\n",
       ">>> U, s, V = np.linalg.svd(a, full_matrices=True)\n",
       ">>> U.shape, V.shape, s.shape\n",
       "((9, 9), (6, 6), (6,))\n",
       ">>> S = np.zeros((9, 6), dtype=complex)\n",
       ">>> S[:6, :6] = np.diag(s)\n",
       ">>> np.allclose(a, np.dot(U, np.dot(S, V)))\n",
       "True\n",
       "\n",
       "Reconstruction based on reduced SVD:\n",
       "\n",
       ">>> U, s, V = np.linalg.svd(a, full_matrices=False)\n",
       ">>> U.shape, V.shape, s.shape\n",
       "((9, 6), (6, 6), (6,))\n",
       ">>> S = np.diag(s)\n",
       ">>> np.allclose(a, np.dot(U, np.dot(S, V)))\n",
       "True\n",
       "\u001b[0;31mFile:\u001b[0m      ~/.local/lib/python3.5/site-packages/numpy/linalg/linalg.py\n",
       "\u001b[0;31mType:\u001b[0m      function\n"
      ]
     },
     "metadata": {},
     "output_type": "display_data"
    }
   ],
   "source": [
    "np.linalg.svd?"
   ]
  },
  {
   "cell_type": "code",
   "execution_count": 16,
   "metadata": {},
   "outputs": [
    {
     "data": {
      "text/plain": [
       "\u001b[0;31mSignature:\u001b[0m \u001b[0mnp\u001b[0m\u001b[0;34m.\u001b[0m\u001b[0mdiag\u001b[0m\u001b[0;34m(\u001b[0m\u001b[0mv\u001b[0m\u001b[0;34m,\u001b[0m \u001b[0mk\u001b[0m\u001b[0;34m=\u001b[0m\u001b[0;36m0\u001b[0m\u001b[0;34m)\u001b[0m\u001b[0;34m\u001b[0m\u001b[0m\n",
       "\u001b[0;31mDocstring:\u001b[0m\n",
       "Extract a diagonal or construct a diagonal array.\n",
       "\n",
       "See the more detailed documentation for ``numpy.diagonal`` if you use this\n",
       "function to extract a diagonal and wish to write to the resulting array;\n",
       "whether it returns a copy or a view depends on what version of numpy you\n",
       "are using.\n",
       "\n",
       "Parameters\n",
       "----------\n",
       "v : array_like\n",
       "    If `v` is a 2-D array, return a copy of its `k`-th diagonal.\n",
       "    If `v` is a 1-D array, return a 2-D array with `v` on the `k`-th\n",
       "    diagonal.\n",
       "k : int, optional\n",
       "    Diagonal in question. The default is 0. Use `k>0` for diagonals\n",
       "    above the main diagonal, and `k<0` for diagonals below the main\n",
       "    diagonal.\n",
       "\n",
       "Returns\n",
       "-------\n",
       "out : ndarray\n",
       "    The extracted diagonal or constructed diagonal array.\n",
       "\n",
       "See Also\n",
       "--------\n",
       "diagonal : Return specified diagonals.\n",
       "diagflat : Create a 2-D array with the flattened input as a diagonal.\n",
       "trace : Sum along diagonals.\n",
       "triu : Upper triangle of an array.\n",
       "tril : Lower triangle of an array.\n",
       "\n",
       "Examples\n",
       "--------\n",
       ">>> x = np.arange(9).reshape((3,3))\n",
       ">>> x\n",
       "array([[0, 1, 2],\n",
       "       [3, 4, 5],\n",
       "       [6, 7, 8]])\n",
       "\n",
       ">>> np.diag(x)\n",
       "array([0, 4, 8])\n",
       ">>> np.diag(x, k=1)\n",
       "array([1, 5])\n",
       ">>> np.diag(x, k=-1)\n",
       "array([3, 7])\n",
       "\n",
       ">>> np.diag(np.diag(x))\n",
       "array([[0, 0, 0],\n",
       "       [0, 4, 0],\n",
       "       [0, 0, 8]])\n",
       "\u001b[0;31mFile:\u001b[0m      ~/.local/lib/python3.5/site-packages/numpy/lib/twodim_base.py\n",
       "\u001b[0;31mType:\u001b[0m      function\n"
      ]
     },
     "metadata": {},
     "output_type": "display_data"
    }
   ],
   "source": [
    "np.diag?"
   ]
  },
  {
   "cell_type": "code",
   "execution_count": 17,
   "metadata": {},
   "outputs": [],
   "source": [
    "from numpy.linalg import inv"
   ]
  },
  {
   "cell_type": "code",
   "execution_count": 19,
   "metadata": {},
   "outputs": [],
   "source": [
    "A = np.array([[1,2],[3,4]])\n",
    "A_inv = inv(A)"
   ]
  },
  {
   "cell_type": "code",
   "execution_count": 20,
   "metadata": {},
   "outputs": [
    {
     "data": {
      "text/plain": [
       "array([[-2. ,  1. ],\n",
       "       [ 1.5, -0.5]])"
      ]
     },
     "execution_count": 20,
     "metadata": {},
     "output_type": "execute_result"
    }
   ],
   "source": [
    "A_inv"
   ]
  },
  {
   "cell_type": "code",
   "execution_count": 21,
   "metadata": {},
   "outputs": [],
   "source": [
    "B = A.dot(A_inv)"
   ]
  },
  {
   "cell_type": "code",
   "execution_count": 22,
   "metadata": {},
   "outputs": [
    {
     "data": {
      "text/plain": [
       "array([[  1.00000000e+00,   0.00000000e+00],\n",
       "       [  8.88178420e-16,   1.00000000e+00]])"
      ]
     },
     "execution_count": 22,
     "metadata": {},
     "output_type": "execute_result"
    }
   ],
   "source": [
    "B"
   ]
  },
  {
   "cell_type": "code",
   "execution_count": null,
   "metadata": {},
   "outputs": [],
   "source": []
  }
 ],
 "metadata": {
  "kernelspec": {
   "display_name": "practice",
   "language": "python",
   "name": "practice"
  },
  "language_info": {
   "codemirror_mode": {
    "name": "ipython",
    "version": 3
   },
   "file_extension": ".py",
   "mimetype": "text/x-python",
   "name": "python",
   "nbconvert_exporter": "python",
   "pygments_lexer": "ipython3",
   "version": "3.5.4"
  }
 },
 "nbformat": 4,
 "nbformat_minor": 2
}
