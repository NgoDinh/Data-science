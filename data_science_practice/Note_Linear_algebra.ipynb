{
 "cells": [
  {
   "cell_type": "markdown",
   "metadata": {},
   "source": [
    "## Matrix multiplication\n",
    "\n",
    "### Vector-vector products:\n",
    ">- Inner product: $$ x^Ty $$\n",
    "- Outer product: $$ xy^T $$\n",
    "\n",
    "### Matrix-Matrix products: C = AB (4 viewpoints)\n",
    "> $$ c_{ij}~is~inner~product~of~a_i^T~and~b_j $$\n",
    "__\n",
    "\n",
    ">$$ Sum~of~outer~product(a_i~and~b_i^T)$$\n",
    "__\n",
    "\n",
    ">$$ c_i~is~a~linear~combination~of~A~by~b_i$$\n",
    "__\n",
    "\n",
    ">$$ c_i^T~is~linear~combination~of~B~by~a_i^T$$\n"
   ]
  },
  {
   "cell_type": "code",
   "execution_count": null,
   "metadata": {},
   "outputs": [],
   "source": []
  }
 ],
 "metadata": {
  "kernelspec": {
   "display_name": "practice",
   "language": "python",
   "name": "practice"
  },
  "language_info": {
   "codemirror_mode": {
    "name": "ipython",
    "version": 3
   },
   "file_extension": ".py",
   "mimetype": "text/x-python",
   "name": "python",
   "nbconvert_exporter": "python",
   "pygments_lexer": "ipython3",
   "version": "3.5.4"
  }
 },
 "nbformat": 4,
 "nbformat_minor": 2
}
