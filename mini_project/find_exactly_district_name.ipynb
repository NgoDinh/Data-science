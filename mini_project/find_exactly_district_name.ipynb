{
  "nbformat": 4,
  "nbformat_minor": 0,
  "metadata": {
    "colab": {
      "name": "find_exactly_district_name.ipynb",
      "version": "0.3.2",
      "provenance": [],
      "include_colab_link": true
    },
    "kernelspec": {
      "display_name": "Python 3",
      "language": "python",
      "name": "python3"
    }
  },
  "cells": [
    {
      "cell_type": "markdown",
      "metadata": {
        "id": "view-in-github",
        "colab_type": "text"
      },
      "source": [
        "<a href=\"https://colab.research.google.com/github/NgoDinh/Data-science/blob/master/mini_project/find_exactly_district_name.ipynb\" target=\"_parent\"><img src=\"https://colab.research.google.com/assets/colab-badge.svg\" alt=\"Open In Colab\"/></a>"
      ]
    },
    {
      "metadata": {
        "id": "8ytUYwIiZoOY",
        "colab_type": "code",
        "colab": {}
      },
      "cell_type": "code",
      "source": [
        "import string\n",
        "import re\n",
        "import numpy as np\n",
        "from scipy import spatial"
      ],
      "execution_count": 0,
      "outputs": []
    },
    {
      "metadata": {
        "id": "iRKeo0lcZoOn",
        "colab_type": "code",
        "colab": {}
      },
      "cell_type": "code",
      "source": [
        "alphabe = list(string.ascii_lowercase)\n",
        "alphabe.append(' ')\n",
        "alphabe.extend(list(string.digits))\n",
        "\n",
        "patterns = {\n",
        "    '[àáảãạăắằẵặẳâầấậẫẩ]': 'a',\n",
        "    '[đ]': 'd',\n",
        "    '[èéẻẽẹêềếểễệ]': 'e',\n",
        "    '[ìíỉĩị]': 'i',\n",
        "    '[òóỏõọôồốổỗộơờớởỡợ]': 'o',\n",
        "    '[ùúủũụưừứửữự]': 'u',\n",
        "    '[ỳýỷỹỵ]': 'y'\n",
        "}\n",
        "\n",
        "def convert(text):\n",
        "    \"\"\"\n",
        "    Convert from 'Tieng Viet co dau' thanh 'Tieng Viet khong dau'\n",
        "    text: input string to be converted\n",
        "    Return: string converted\n",
        "    \"\"\"\n",
        "    output = text\n",
        "    for regex, replace in patterns.items():\n",
        "        output = re.sub(regex, replace, output)\n",
        "        # deal with upper case\n",
        "        output = re.sub(regex.upper(), replace.upper(), output)\n",
        "    return output\n",
        "\n",
        "ds_district = ['Quận 1','Quận 12','Quận Thủ Đức','Quận 9','Quận Gò Vấp','Quận Bình Thạnh','Quận Tân Bình','Quận Tân Phú','Quận Phú Nhuận','Quận 2','Quận 3',\n",
        "               'Quận 10', 'Quận 11','Quận 4','Quận 5','Quận 6','Quận 8','Quận Bình Tân','Quận 7','Huyện Củ Chi','Huyện Hóc Môn','Huyện Bình Chánh',\n",
        "               'Huyện Nhà Bè','Huyện Cần Giờ']\n",
        "converted_ds = [convert(i).lower() for i in ds_district]"
      ],
      "execution_count": 0,
      "outputs": []
    },
    {
      "metadata": {
        "id": "RDnGd1xlZoOv",
        "colab_type": "code",
        "colab": {}
      },
      "cell_type": "code",
      "source": [
        "vector_district = np.zeros((len(converted_ds),len(alphabe)))\n",
        "for district in converted_ds:\n",
        "    for word in list(district):\n",
        "        vector_district[converted_ds.index(district), alphabe.index(word)] += 1"
      ],
      "execution_count": 0,
      "outputs": []
    },
    {
      "metadata": {
        "id": "roM6PLNZZoO4",
        "colab_type": "code",
        "colab": {}
      },
      "cell_type": "code",
      "source": [
        "def convert_to_vec(district):\n",
        "    vec = np.zeros((1,len(alphabe)))\n",
        "    district = convert(district).lower()\n",
        "    for word in list(district):\n",
        "        vec[0,alphabe.index(word)] +=1\n",
        "    return vec[0]"
      ],
      "execution_count": 0,
      "outputs": []
    },
    {
      "metadata": {
        "id": "lK7aFy1GZoO_",
        "colab_type": "code",
        "colab": {}
      },
      "cell_type": "code",
      "source": [
        "def best_fit(district):\n",
        "    fit_result = []\n",
        "    for i in range(len(converted_ds)):\n",
        "        x = vector_district[i,:]\n",
        "#         print(x)\n",
        "        y = convert_to_vec(district)\n",
        "        result = 1 - spatial.distance.cosine(x, y)\n",
        "        fit_result.append(result)\n",
        "#         if result > best_fit_result:\n",
        "#             best_fit_result = result\n",
        "#             bet_fit_index = i\n",
        "    return ds_district[fit_result.index(np.max(fit_result))]"
      ],
      "execution_count": 0,
      "outputs": []
    },
    {
      "metadata": {
        "id": "Gzl3RNwRZoPE",
        "colab_type": "code",
        "colab": {},
        "outputId": "866cebbf-896b-4564-df00-6dbc37dcaac6"
      },
      "cell_type": "code",
      "source": [
        "best_fit(\"quận bình th\")"
      ],
      "execution_count": 0,
      "outputs": [
        {
          "output_type": "execute_result",
          "data": {
            "text/plain": [
              "'Quận Bình Thạnh'"
            ]
          },
          "metadata": {
            "tags": []
          },
          "execution_count": 92
        }
      ]
    },
    {
      "metadata": {
        "id": "j0Gucl-dZoPQ",
        "colab_type": "code",
        "colab": {},
        "outputId": "b2ca56bf-bd25-4368-b4e5-2a0bba4d5238"
      },
      "cell_type": "code",
      "source": [
        "best_fit(\"quận tân bi\")"
      ],
      "execution_count": 0,
      "outputs": [
        {
          "output_type": "execute_result",
          "data": {
            "text/plain": [
              "'Quận Tân Bình'"
            ]
          },
          "metadata": {
            "tags": []
          },
          "execution_count": 93
        }
      ]
    },
    {
      "metadata": {
        "id": "EbIHt_0sZoPb",
        "colab_type": "code",
        "colab": {},
        "outputId": "38e218de-8ec2-4949-a204-181c7f27ce05"
      },
      "cell_type": "code",
      "source": [
        "best_fit(\"quận tâ bình\")"
      ],
      "execution_count": 0,
      "outputs": [
        {
          "output_type": "execute_result",
          "data": {
            "text/plain": [
              "'Quận Tân Bình'"
            ]
          },
          "metadata": {
            "tags": []
          },
          "execution_count": 94
        }
      ]
    },
    {
      "metadata": {
        "id": "Uv5yJU3OZoPq",
        "colab_type": "code",
        "colab": {},
        "outputId": "551c30ef-6885-483f-9318-31a5c6167151"
      },
      "cell_type": "code",
      "source": [
        "best_fit(\"quận gò va\")"
      ],
      "execution_count": 0,
      "outputs": [
        {
          "output_type": "execute_result",
          "data": {
            "text/plain": [
              "'Quận Gò Vấp'"
            ]
          },
          "metadata": {
            "tags": []
          },
          "execution_count": 95
        }
      ]
    },
    {
      "metadata": {
        "id": "1klcU1RwZoP4",
        "colab_type": "code",
        "colab": {},
        "outputId": "389161a2-cd63-4962-f1dc-ec2636ec3234"
      },
      "cell_type": "code",
      "source": [
        "best_fit(\"quận tân ph\")"
      ],
      "execution_count": 0,
      "outputs": [
        {
          "output_type": "execute_result",
          "data": {
            "text/plain": [
              "'Quận Tân Phú'"
            ]
          },
          "metadata": {
            "tags": []
          },
          "execution_count": 96
        }
      ]
    },
    {
      "metadata": {
        "id": "RrwCAKBvZoQF",
        "colab_type": "code",
        "colab": {},
        "outputId": "1cbb989d-d24f-476e-b0ef-beb903927f87"
      },
      "cell_type": "code",
      "source": [
        "best_fit(\"quận tu đức\")"
      ],
      "execution_count": 0,
      "outputs": [
        {
          "output_type": "execute_result",
          "data": {
            "text/plain": [
              "'Quận Thủ Đức'"
            ]
          },
          "metadata": {
            "tags": []
          },
          "execution_count": 97
        }
      ]
    },
    {
      "metadata": {
        "id": "HHVfByyeZoQR",
        "colab_type": "code",
        "colab": {}
      },
      "cell_type": "code",
      "source": [
        ""
      ],
      "execution_count": 0,
      "outputs": []
    }
  ]
}